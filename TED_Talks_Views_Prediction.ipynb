{
  "nbformat": 4,
  "nbformat_minor": 0,
  "metadata": {
    "colab": {
      "private_outputs": true,
      "provenance": [],
      "collapsed_sections": [
        "vncDsAP0Gaoa",
        "FJNUwmbgGyua",
        "w6K7xa23Elo4",
        "yQaldy8SH6Dl",
        "mDgbUHAGgjLW",
        "O_i_v8NEhb9l",
        "HhfV-JJviCcP",
        "Y3lxredqlCYt",
        "3RnN4peoiCZX",
        "x71ZqKXriCWQ",
        "7hBIi_osiCS2",
        "JlHwYmJAmNHm",
        "35m5QtbWiB9F",
        "PoPl-ycgm1ru",
        "H0kj-8xxnORC",
        "nA9Y7ga8ng1Z",
        "PBTbrJXOngz2",
        "u3PMJOP6ngxN",
        "dauF4eBmngu3",
        "bKJF3rekwFvQ",
        "MSa1f5Uengrz",
        "GF8Ens_Soomf",
        "0wOQAZs5pc--",
        "K5QZ13OEpz2H",
        "lQ7QKXXCp7Bj",
        "448CDAPjqfQr",
        "KSlN3yHqYklG",
        "t6dVpIINYklI",
        "ijmpgYnKYklI",
        "-JiQyfWJYklI",
        "EM7whBJCYoAo",
        "fge-S5ZAYoAp",
        "85gYPyotYoAp",
        "RoGjAbkUYoAp",
        "4Of9eVA-YrdM",
        "iky9q4vBYrdO",
        "F6T5p64dYrdO",
        "y-Ehk30pYrdP",
        "bamQiAODYuh1",
        "QHF8YVU7Yuh3",
        "GwzvFGzlYuh3",
        "qYpmQ266Yuh3",
        "OH-pJp9IphqM",
        "bbFf2-_FphqN",
        "_ouA3fa0phqN",
        "Seke61FWphqN",
        "PIIx-8_IphqN",
        "t27r6nlMphqO",
        "r2jJGEOYphqO",
        "b0JNsNcRphqO",
        "BZR9WyysphqO",
        "jj7wYXLtphqO",
        "eZrbJ2SmphqO",
        "rFu4xreNphqO",
        "YJ55k-q6phqO",
        "gCFgpxoyphqP",
        "OVtJsKN_phqQ",
        "lssrdh5qphqQ",
        "U2RJ9gkRphqQ",
        "1M8mcRywphqQ",
        "tgIPom80phqQ",
        "JMzcOPDDphqR",
        "x-EpHcCOp1ci",
        "X_VqEhTip1ck",
        "8zGJKyg5p1ck",
        "n3dbpmDWp1ck",
        "ylSl6qgtp1ck",
        "ZWILFDl5p1ck",
        "yLjJCtPM0KBk",
        "xiyOF9F70UgQ",
        "7wuGOrhz0itI",
        "id1riN9m0vUs",
        "578E2V7j08f6",
        "89xtkJwZ18nB",
        "67NQN5KX2AMe",
        "-oLEiFgy-5Pf",
        "2DejudWSA-a0",
        "rMDnDkt2B6du",
        "yiiVWRdJDDil",
        "BhH2vgX9EjGr",
        "qjKvONjwE8ra",
        "VfCC591jGiD4",
        "ArJBuiUVfxKd",
        "4qY1EAkEfxKe",
        "Fze-IPXLpx6K",
        "7AN1z2sKpx6M",
        "h_CCil-SKHpo",
        "cBFFvTBNJzUa",
        "HvGl1hHyA_VK",
        "gCX9965dhzqZ",
        "gIfDvo9L0UH2"
      ],
      "include_colab_link": true
    },
    "kernelspec": {
      "name": "python3",
      "display_name": "Python 3"
    },
    "language_info": {
      "name": "python"
    }
  },
  "cells": [
    {
      "cell_type": "markdown",
      "metadata": {
        "id": "view-in-github",
        "colab_type": "text"
      },
      "source": [
        "<a href=\"https://colab.research.google.com/github/Aman1647/TED-Talks-Views-Prediction/blob/main/TED_Talks_Views_Prediction.ipynb\" target=\"_parent\"><img src=\"https://colab.research.google.com/assets/colab-badge.svg\" alt=\"Open In Colab\"/></a>"
      ]
    },
    {
      "cell_type": "markdown",
      "source": [
        "# **Project Name**    - \n",
        "\n"
      ],
      "metadata": {
        "id": "vncDsAP0Gaoa"
      }
    },
    {
      "cell_type": "markdown",
      "source": [
        "##### **Project Type**    - Regression/TED Talks Views Prediction\n",
        "##### **Contribution**    - Individual\n"
      ],
      "metadata": {
        "id": "beRrZCGUAJYm"
      }
    },
    {
      "cell_type": "markdown",
      "source": [
        "# **Project Summary -**"
      ],
      "metadata": {
        "id": "FJNUwmbgGyua"
      }
    },
    {
      "cell_type": "markdown",
      "source": [
        "We had a dataset of over 4000 TED Events and the main objective was to build a model for views generated for these events. The dataset was feature-rich but was heavily influenced by outliers , which were handled using Interquartile Range (IQR) method. Many important insights were received from the features extracted from the dataset using Feature-Engineering. One-Hot Encoding was performed for binary conversion of object type data-types. Regression Models implemented for analysis were Linear Regression along with regularizations Lasso, Ridge & Elastic-Net followed by Decision Trees and its ensembles techniques. Models were evaluated on their MAE, R2 score which concluded with Random-Forest being the best of all the models with a train-score of 98% and test-score of 80% and least MAE . Feature importance were calculated using SHAPLEY method and it was found that features generated using feature engineering were the most important and impacted the model prediction the most. It was concluded that TED events can be focused more on the theme of Self-Improvement , Education, Personality development within the time-limit of 16 min with 4-7 topics for each event and make the event available in as many languages as possible .These factors were associated with wide-spread reach of TED events and its popularity . Also , if the events are published at the start of the Year , close to March month , max views were generated.It was concluded that on an avg the views generated for any new TED events following the above features and factors could fetch an average views of 2.17 million."
      ],
      "metadata": {
        "id": "F6v_1wHtG2nS"
      }
    },
    {
      "cell_type": "markdown",
      "source": [
        "# **GitHub Link -**"
      ],
      "metadata": {
        "id": "w6K7xa23Elo4"
      }
    },
    {
      "cell_type": "markdown",
      "source": [
        "Provide your GitHub Link here."
      ],
      "metadata": {
        "id": "h1o69JH3Eqqn"
      }
    },
    {
      "cell_type": "markdown",
      "source": [
        "# **Problem Statement**\n"
      ],
      "metadata": {
        "id": "yQaldy8SH6Dl"
      }
    },
    {
      "cell_type": "markdown",
      "source": [
        "**TED is devoted to spreading powerful ideas on just about any topic. These datasets contain over 4,000 TED talks including transcripts in many languages. Founded in 1984 by Richard Salman as a nonprofit organization that aimed at bringing experts from the fields of Technology, Entertainment, and Design together, TED Conferences have gone on to become the Mecca of ideas from virtually all walks of life. As of 2015, TED and its sister TEDx chapters have published more than 2000 talks for free consumption by the masses and its speaker list boasts of the likes of Al Gore, Jimmy Wales, Shahrukh Khan, and Bill Gates. The main objective is to build a predictive model, which could help in predicting the views of the videos uploaded on the TEDx website.**"
      ],
      "metadata": {
        "id": "DpeJGUA3kjGy"
      }
    },
    {
      "cell_type": "markdown",
      "source": [
        "# **General Guidelines** : -  "
      ],
      "metadata": {
        "id": "mDgbUHAGgjLW"
      }
    },
    {
      "cell_type": "markdown",
      "source": [
        "1.   Well-structured, formatted, and commented code is required. \n",
        "2.   Exception Handling, Production Grade Code & Deployment Ready Code will be a plus. Those students will be awarded some additional credits. \n",
        "     \n",
        "     The additional credits will have advantages over other students during Star Student selection.\n",
        "       \n",
        "             [ Note: - Deployment Ready Code is defined as, the whole .ipynb notebook should be executable in one go\n",
        "                       without a single error logged. ]\n",
        "\n",
        "3.   Each and every logic should have proper comments.\n",
        "4. You may add as many number of charts you want. Make Sure for each and every chart the following format should be answered.\n",
        "        \n",
        "\n",
        "```\n",
        "# Chart visualization code\n",
        "```\n",
        "            \n",
        "\n",
        "*   Why did you pick the specific chart?\n",
        "*   What is/are the insight(s) found from the chart?\n",
        "* Will the gained insights help creating a positive business impact? \n",
        "Are there any insights that lead to negative growth? Justify with specific reason.\n",
        "\n",
        "5. You have to create at least 15 logical & meaningful charts having important insights.\n",
        "\n",
        "\n",
        "[ Hints : - Do the Vizualization in  a structured way while following \"UBM\" Rule. \n",
        "\n",
        "U - Univariate Analysis,\n",
        "\n",
        "B - Bivariate Analysis (Numerical - Categorical, Numerical - Numerical, Categorical - Categorical)\n",
        "\n",
        "M - Multivariate Analysis\n",
        " ]\n",
        "\n",
        "\n",
        "\n",
        "\n",
        "\n",
        "6. You may add more ml algorithms for model creation. Make sure for each and every algorithm, the following format should be answered.\n",
        "\n",
        "\n",
        "*   Explain the ML Model used and it's performance using Evaluation metric Score Chart.\n",
        "\n",
        "\n",
        "*   Cross- Validation & Hyperparameter Tuning\n",
        "\n",
        "*   Have you seen any improvement? Note down the improvement with updates Evaluation metric Score Chart.\n",
        "\n",
        "*   Explain each evaluation metric's indication towards business and the business impact pf the ML model used.\n",
        "\n",
        "\n",
        "\n",
        "\n",
        "\n",
        "\n",
        "\n",
        "\n",
        "\n",
        "\n",
        "\n",
        "\n",
        "\n",
        "\n",
        "\n",
        "\n",
        "\n",
        "\n"
      ],
      "metadata": {
        "id": "ZrxVaUj-hHfC"
      }
    },
    {
      "cell_type": "markdown",
      "source": [
        "# ***Let's Begin !***"
      ],
      "metadata": {
        "id": "O_i_v8NEhb9l"
      }
    },
    {
      "cell_type": "markdown",
      "source": [
        "## ***1. Know Your Data***"
      ],
      "metadata": {
        "id": "HhfV-JJviCcP"
      }
    },
    {
      "cell_type": "code",
      "source": [
        "from google.colab import drive\n",
        "drive.mount('/content/drive')"
      ],
      "metadata": {
        "id": "lAu7B37UeNSq"
      },
      "execution_count": null,
      "outputs": []
    },
    {
      "cell_type": "markdown",
      "source": [
        "**know your data**"
      ],
      "metadata": {
        "id": "YdWUqDhvebQF"
      }
    },
    {
      "cell_type": "markdown",
      "source": [
        "Features mentioned in the dataset :\n",
        "1. talk_id: Talk identification number provided by TED\n",
        "2. title: Title of the talk\n",
        "3. speaker_1: First speaker in TED's speaker list\n",
        "4. all_speakers: Speakers in the talk\n",
        "5. occupations: Occupations of the speakers\n",
        "6. about_speakers: Blurb about each speaker\n",
        "7. recorded_date: Date the talk was recorded\n",
        "8. published_date: Date the talk was published to TED.com\n",
        "9. event: Event or medium in which the talk was given\n",
        "10. native_lang: Language the talk was given in\n",
        "11. available_lang: All available languages (lang_code) for a talk\n",
        "12. comments: Count of comments\n",
        "13. duration: Duration in seconds\n",
        "14. topics: Related tags or topics for the talk\n",
        "15. related_talks: Related talks (key='talk_id',value='title')\n",
        "16. description: Description of the talk\n",
        "17. transcript: Full transcript of the talk\n",
        "18. url: URL of the talk"
      ],
      "metadata": {
        "id": "5uaCb8NleqCT"
      }
    },
    {
      "cell_type": "markdown",
      "source": [
        "### Import Libraries"
      ],
      "metadata": {
        "id": "Y3lxredqlCYt"
      }
    },
    {
      "cell_type": "code",
      "source": [
        "import pandas as pd\n",
        "import numpy as np\n",
        "import matplotlib.pyplot as plt\n",
        "import seaborn as sns\n",
        "%matplotlib inline\n",
        "\n",
        "import ast\n",
        "from datetime import datetime\n",
        "\n",
        "from scipy.stats import zscore\n",
        "from sklearn.model_selection import train_test_split\n",
        "from sklearn.linear_model import LinearRegression\n",
        "\n",
        "from sklearn import metrics\n",
        "from sklearn.metrics import mean_squared_error\n",
        "from sklearn.metrics import mean_absolute_error\n",
        "from sklearn.metrics import r2_score\n",
        "\n",
        "from sklearn.linear_model import Lasso\n",
        "from sklearn.model_selection import GridSearchCV\n",
        "from sklearn.linear_model import Ridge\n",
        "from sklearn.linear_model import ElasticNet\n",
        "\n",
        "from sklearn.tree import DecisionTreeRegressor\n",
        "from sklearn.ensemble import BaggingRegressor\n",
        "from sklearn import tree\n",
        "from sklearn.ensemble import RandomForestRegressor\n",
        "from sklearn.model_selection import RandomizedSearchCV\n",
        "from sklearn import ensemble\n",
        "from sklearn.ensemble import GradientBoostingRegressor\n",
        "from xgboost import XGBRegressor\n",
        "import xgboost as xgb\n",
        "from sklearn.neighbors import KNeighborsRegressor\n",
        "\n",
        "from sklearn.preprocessing import StandardScaler\n",
        "from sklearn.preprocessing import MinMaxScaler\n",
        "\n",
        "from scipy.stats import uniform\n",
        "from scipy.stats import norm\n",
        "from scipy.stats import chi2\n",
        "from scipy.stats import t\n",
        "from scipy.stats import f"
      ],
      "metadata": {
        "id": "M8Vqi-pPk-HR"
      },
      "execution_count": null,
      "outputs": []
    },
    {
      "cell_type": "markdown",
      "source": [
        "### Dataset Loading"
      ],
      "metadata": {
        "id": "3RnN4peoiCZX"
      }
    },
    {
      "cell_type": "code",
      "source": [
        "df = pd.read_csv(\"/content/drive/MyDrive/Almabetter/Capstone Projects/Regression/Copy of data_ted_talks.csv\")\n",
        "\n",
        "ted_df = df.copy()"
      ],
      "metadata": {
        "id": "4CkvbW_SlZ_R"
      },
      "execution_count": null,
      "outputs": []
    },
    {
      "cell_type": "markdown",
      "source": [
        "### Dataset First View"
      ],
      "metadata": {
        "id": "x71ZqKXriCWQ"
      }
    },
    {
      "cell_type": "code",
      "source": [
        "\n",
        "ted_df.head()"
      ],
      "metadata": {
        "id": "LWNFOSvLl09H"
      },
      "execution_count": null,
      "outputs": []
    },
    {
      "cell_type": "markdown",
      "source": [
        "### Dataset Rows & Columns count"
      ],
      "metadata": {
        "id": "7hBIi_osiCS2"
      }
    },
    {
      "cell_type": "code",
      "source": [
        "\n",
        "ted_df.shape"
      ],
      "metadata": {
        "id": "Kllu7SJgmLij"
      },
      "execution_count": null,
      "outputs": []
    },
    {
      "cell_type": "markdown",
      "source": [
        "### Dataset Information"
      ],
      "metadata": {
        "id": "JlHwYmJAmNHm"
      }
    },
    {
      "cell_type": "code",
      "source": [
        "ted_df.info()"
      ],
      "metadata": {
        "id": "e9hRXRi6meOf"
      },
      "execution_count": null,
      "outputs": []
    },
    {
      "cell_type": "markdown",
      "source": [
        "#### Duplicate Values"
      ],
      "metadata": {
        "id": "35m5QtbWiB9F"
      }
    },
    {
      "cell_type": "code",
      "source": [
        "ted_df.duplicated().sum()"
      ],
      "metadata": {
        "id": "1sLdpKYkmox0"
      },
      "execution_count": null,
      "outputs": []
    },
    {
      "cell_type": "markdown",
      "source": [
        "#### Missing Values/Null Values"
      ],
      "metadata": {
        "id": "PoPl-ycgm1ru"
      }
    },
    {
      "cell_type": "code",
      "source": [
        "ted_df.isnull().sum()"
      ],
      "metadata": {
        "id": "GgHWkxvamxVg"
      },
      "execution_count": null,
      "outputs": []
    },
    {
      "cell_type": "markdown",
      "source": [
        "### What did you know about your dataset?"
      ],
      "metadata": {
        "id": "H0kj-8xxnORC"
      }
    },
    {
      "cell_type": "markdown",
      "source": [
        "Dataset contains 4005 columns and 19 rows.Target variable is integer datatype. Some columns contain null values which need to be handled"
      ],
      "metadata": {
        "id": "gfoNAAC-nUe_"
      }
    },
    {
      "cell_type": "markdown",
      "source": [
        "## ***2. Understanding Your Variables***"
      ],
      "metadata": {
        "id": "nA9Y7ga8ng1Z"
      }
    },
    {
      "cell_type": "code",
      "source": [
        "ted_df.columns"
      ],
      "metadata": {
        "id": "j7xfkqrt5Ag5"
      },
      "execution_count": null,
      "outputs": []
    },
    {
      "cell_type": "code",
      "source": [
        "ted_df.describe(include = 'all').T"
      ],
      "metadata": {
        "id": "DnOaZdaE5Q5t"
      },
      "execution_count": null,
      "outputs": []
    },
    {
      "cell_type": "markdown",
      "source": [
        "**Views**"
      ],
      "metadata": {
        "id": "W57VaQi4gMJN"
      }
    },
    {
      "cell_type": "code",
      "source": [
        "plt.figure(figsize=(8,6))\n",
        "sns.distplot((ted_df['views']))\n",
        "plt.xlabel('Views')\n",
        "     "
      ],
      "metadata": {
        "id": "F8p7umjKgGWq"
      },
      "execution_count": null,
      "outputs": []
    },
    {
      "cell_type": "code",
      "source": [
        "plt.figure(figsize=(8,6))\n",
        "sns.distplot(np.sqrt(ted_df['views']))          \n",
        "plt.xlabel('Views')"
      ],
      "metadata": {
        "id": "lCgMZ7EAgGM2"
      },
      "execution_count": null,
      "outputs": []
    },
    {
      "cell_type": "code",
      "source": [
        "ted_df['views'].describe()"
      ],
      "metadata": {
        "id": "xWdC6d8zgGJN"
      },
      "execution_count": null,
      "outputs": []
    },
    {
      "cell_type": "markdown",
      "source": [
        "**Duration**"
      ],
      "metadata": {
        "id": "NRgk6rz2gPni"
      }
    },
    {
      "cell_type": "code",
      "source": [
        "plt.figure(figsize=(8,6))\n",
        "sns.distplot((ted_df['duration']))\n",
        "plt.xlabel('Duration')"
      ],
      "metadata": {
        "id": "HmTbJI7AgGHO"
      },
      "execution_count": null,
      "outputs": []
    },
    {
      "cell_type": "code",
      "source": [
        "ted_df['duration'].describe()"
      ],
      "metadata": {
        "id": "sIb0DvBSgGC5"
      },
      "execution_count": null,
      "outputs": []
    },
    {
      "cell_type": "markdown",
      "source": [
        "**Comments**"
      ],
      "metadata": {
        "id": "1C-gpF7Agarc"
      }
    },
    {
      "cell_type": "code",
      "source": [
        "plt.figure(figsize=(8,6))\n",
        "sns.distplot((ted_df['comments']))\n",
        "plt.xlabel('Comments')"
      ],
      "metadata": {
        "id": "RwjhH3pegF3f"
      },
      "execution_count": null,
      "outputs": []
    },
    {
      "cell_type": "code",
      "source": [
        "ted_df['comments'].describe()\n"
      ],
      "metadata": {
        "id": "LiAekHRRgaMF"
      },
      "execution_count": null,
      "outputs": []
    },
    {
      "cell_type": "markdown",
      "source": [
        "### Variables Description "
      ],
      "metadata": {
        "id": "PBTbrJXOngz2"
      }
    },
    {
      "cell_type": "markdown",
      "source": [
        "1. The average views garned by TED events is 2.14 million and median is 1.37 million. This suggests a very high popularity of TED events\n",
        "2. The average duration for TED events is around 714 seconds which is 11 minutes, whereas majority of TED events have time-duration of 960 seconds which approximates to around 15 minutes which is a very good time distribution\n",
        "3. TED events receive an average of 90 comments and median is 68 which is very less considering the popularity of the TED events. While the maximum count of comments received are greater than 135"
      ],
      "metadata": {
        "id": "aJV4KIxSnxay"
      }
    },
    {
      "cell_type": "markdown",
      "source": [
        "### Check Unique Values for each variable."
      ],
      "metadata": {
        "id": "u3PMJOP6ngxN"
      }
    },
    {
      "cell_type": "code",
      "source": [
        "for col in ted_df:\n",
        "    print(col ,\":\\n\", ted_df[col].unique())"
      ],
      "metadata": {
        "id": "zms12Yq5n-jE"
      },
      "execution_count": null,
      "outputs": []
    },
    {
      "cell_type": "markdown",
      "source": [
        "## 3. ***Data Wrangling***"
      ],
      "metadata": {
        "id": "dauF4eBmngu3"
      }
    },
    {
      "cell_type": "markdown",
      "source": [
        "### Data Wrangling Code"
      ],
      "metadata": {
        "id": "bKJF3rekwFvQ"
      }
    },
    {
      "cell_type": "markdown",
      "source": [
        "Grouping events based on decades and uniqe suffixes to reduce complexity"
      ],
      "metadata": {
        "id": "ZLzJHN2YhIgW"
      }
    },
    {
      "cell_type": "code",
      "source": [
        "ted_df['event'].value_counts()\n",
        "     "
      ],
      "metadata": {
        "id": "wk-9a2fpoLcV"
      },
      "execution_count": null,
      "outputs": []
    },
    {
      "cell_type": "code",
      "source": [
        "ted_df['Event_Category'] = 'Others'\n",
        "for i in range(len(df)):\n",
        "    if ted_df['event'][i][0:5]=='TED20':\n",
        "        ted_df['Event_Category'][i] = 'TED2000s'\n",
        "    elif ted_df['event'][i][0:5]=='TED19':\n",
        "        ted_df['Event_Category'][i] = 'TED1900s'\n",
        "    elif ted_df['event'][i][0:4]=='TEDx':\n",
        "        ted_df['Event_Category'][i] = \"TEDx\"\n",
        "    elif ted_df['event'][i][0:4]=='TED@':\n",
        "        ted_df['Event_Category'][i] = \"TED@\"\n",
        "    elif ted_df['event'][i][0:8]=='TEDSalon':\n",
        "        ted_df['Event_Category'][i] = \"TEDSalon\"\n",
        "    elif ted_df['event'][i][0:6]=='TED-Ed':\n",
        "        ted_df['Event_Category'][i] = 'TED-Ed'\n",
        "    elif ted_df['event'][i][0:8]=='TEDWomen':\n",
        "        ted_df['Event_Category'][i] = 'TEDWomen'\n",
        "    elif ted_df['event'][i][0:6]=='TEDMED':\n",
        "        ted_df['Event_Category'][i] = 'TEDMED'\n",
        "    elif ted_df['event'][i][0:3]=='TED':\n",
        "        ted_df['Event_Category'][i] = 'TED_Other'"
      ],
      "metadata": {
        "id": "Msew1h36haMy"
      },
      "execution_count": null,
      "outputs": []
    },
    {
      "cell_type": "code",
      "source": [
        "ted_df['Event_Category'].unique()"
      ],
      "metadata": {
        "id": "TgY9FBc-haJu"
      },
      "execution_count": null,
      "outputs": []
    },
    {
      "cell_type": "code",
      "source": [
        "ted_df['Event_Category'].value_counts()"
      ],
      "metadata": {
        "id": "dthIaJpXhaG_"
      },
      "execution_count": null,
      "outputs": []
    },
    {
      "cell_type": "markdown",
      "source": [
        "Creating new datetime features like date, month, year, day and time_since_published features for better understanding and evaluation of dataset"
      ],
      "metadata": {
        "id": "4jHfvLo2hhZ4"
      }
    },
    {
      "cell_type": "code",
      "source": [
        "ted_df['recorded_date'] = pd.to_datetime(ted_df['recorded_date'], format= \"%Y-%m-%d\")\n",
        "ted_df['published_date'] = pd.to_datetime(ted_df['published_date'], format = \"%Y-%m-%d\")"
      ],
      "metadata": {
        "id": "6I-UtPdwhaFK"
      },
      "execution_count": null,
      "outputs": []
    },
    {
      "cell_type": "markdown",
      "source": [
        "Last date of published event"
      ],
      "metadata": {
        "id": "jGYwsKAThpis"
      }
    },
    {
      "cell_type": "code",
      "source": [
        "last_date = ted_df['published_date'].max()\n",
        "last_date"
      ],
      "metadata": {
        "id": "VXLp6bPchaCo"
      },
      "execution_count": null,
      "outputs": []
    },
    {
      "cell_type": "markdown",
      "source": [
        "First- date of published event"
      ],
      "metadata": {
        "id": "Zly571uHhssb"
      }
    },
    {
      "cell_type": "code",
      "source": [
        "first_date = ted_df['published_date'].min()\n",
        "first_date\n",
        "     "
      ],
      "metadata": {
        "id": "8nzeNcjMhaAq"
      },
      "execution_count": null,
      "outputs": []
    },
    {
      "cell_type": "markdown",
      "source": [
        "Converting into datetime"
      ],
      "metadata": {
        "id": "-8tzfuO1hy2u"
      }
    },
    {
      "cell_type": "code",
      "source": [
        "ted_df['Day'] = ted_df['published_date'].dt.day_name()\n",
        "     "
      ],
      "metadata": {
        "id": "ivY6miuQhZ9s"
      },
      "execution_count": null,
      "outputs": []
    },
    {
      "cell_type": "code",
      "source": [
        "ted_df['Month'] = ted_df['published_date'].dt.month_name()"
      ],
      "metadata": {
        "id": "PA6Z6OaphZ7s"
      },
      "execution_count": null,
      "outputs": []
    },
    {
      "cell_type": "code",
      "source": [
        "ted_df[\"year\"] = ted_df[\"published_date\"].apply(lambda x: x.year)\n",
        "ted_df[\"day_num\"] = ted_df[\"published_date\"].apply(lambda x: x.day)"
      ],
      "metadata": {
        "id": "PYCNhjIwhZ2M"
      },
      "execution_count": null,
      "outputs": []
    },
    {
      "cell_type": "code",
      "source": [
        "ted_df['time_since_published'] = (last_date - ted_df['published_date']).apply(lambda x:x.days)"
      ],
      "metadata": {
        "id": "hJSoh7zEh2eE"
      },
      "execution_count": null,
      "outputs": []
    },
    {
      "cell_type": "code",
      "source": [
        "ted_df['daily_views'] = ted_df['views'] / (ted_df['time_since_published'])"
      ],
      "metadata": {
        "id": "SxOE82F9h2U2"
      },
      "execution_count": null,
      "outputs": []
    },
    {
      "cell_type": "code",
      "source": [
        "ted_df.head(2)"
      ],
      "metadata": {
        "id": "aUawH3hjh-cx"
      },
      "execution_count": null,
      "outputs": []
    },
    {
      "cell_type": "markdown",
      "source": [
        "Finding number of unique topics in dataset"
      ],
      "metadata": {
        "id": "0U0ZkEYpiDBU"
      }
    },
    {
      "cell_type": "code",
      "source": [
        "temp = ted_df['topics'].iloc[1]\n",
        "temp"
      ],
      "metadata": {
        "id": "xCx4_q36iJye"
      },
      "execution_count": null,
      "outputs": []
    },
    {
      "cell_type": "code",
      "source": [
        "temp_eval = ast.literal_eval(temp)\n",
        "temp_eval"
      ],
      "metadata": {
        "id": "ZTkMldu1iJoA"
      },
      "execution_count": null,
      "outputs": []
    },
    {
      "cell_type": "code",
      "source": [
        "def get_num_topics(temp):\n",
        "\n",
        "  temp_eval = ast.literal_eval(temp)\n",
        "  num_topics = []\n",
        "  for t in temp_eval:\n",
        "    num_topics = len(temp_eval)\n",
        "    \n",
        "  return num_topics\n",
        "\n",
        "\n",
        "ted_df['Num_of_Topics'] = ted_df['topics'].map(get_num_topics)"
      ],
      "metadata": {
        "id": "9miyHCduiJa2"
      },
      "execution_count": null,
      "outputs": []
    },
    {
      "cell_type": "code",
      "source": [
        "get_num_topics(temp)"
      ],
      "metadata": {
        "id": "jcueZvRGiJQ6"
      },
      "execution_count": null,
      "outputs": []
    },
    {
      "cell_type": "markdown",
      "source": [
        "Number of Available Languages Count"
      ],
      "metadata": {
        "id": "oFTS1SO6iLQT"
      }
    },
    {
      "cell_type": "code",
      "source": [
        "temp = ted_df['available_lang'][0]\n",
        "temp"
      ],
      "metadata": {
        "id": "RCYWSpF1iJHr"
      },
      "execution_count": null,
      "outputs": []
    },
    {
      "cell_type": "code",
      "source": [
        "temp_eval = ast.literal_eval(temp)"
      ],
      "metadata": {
        "id": "aEdIstYJiI-M"
      },
      "execution_count": null,
      "outputs": []
    },
    {
      "cell_type": "code",
      "source": [
        "def get_lanuages(temp):\n",
        "\n",
        "  temp_eval = ast.literal_eval(temp)\n",
        "  lang_count = []\n",
        "  for t in temp_eval:\n",
        "    lang_count = len(temp_eval)  \n",
        "  return lang_count\n",
        "\n",
        "\n",
        "ted_df['Available_lang'] = ted_df['available_lang'].map(get_lanuages)"
      ],
      "metadata": {
        "id": "D58_3x8ViI0N"
      },
      "execution_count": null,
      "outputs": []
    },
    {
      "cell_type": "code",
      "source": [
        "get_lanuages(temp)"
      ],
      "metadata": {
        "id": "AIAQly6yiIqH"
      },
      "execution_count": null,
      "outputs": []
    },
    {
      "cell_type": "markdown",
      "source": [
        "Speaker_1 average views"
      ],
      "metadata": {
        "id": "3nV3mi51iMQw"
      }
    },
    {
      "cell_type": "code",
      "source": [
        "Speaker_avg_views = ted_df.groupby('speaker_1').agg({'views':'mean'}).sort_values(['views'], ascending=False)\n",
        "Speaker_avg_views = Speaker_avg_views.to_dict()\n",
        "Speaker_avg_views = Speaker_avg_views.values()\n",
        "Speaker_avg_views = list(Speaker_avg_views)[0]\n",
        "ted_df['Speaker_avg_views'] = ted_df['speaker_1'].map(Speaker_avg_views)"
      ],
      "metadata": {
        "id": "5x4BU0j8iIf9"
      },
      "execution_count": null,
      "outputs": []
    },
    {
      "cell_type": "code",
      "source": [
        "ted_df.head(2)"
      ],
      "metadata": {
        "id": "KKPaQ5JtiH_f"
      },
      "execution_count": null,
      "outputs": []
    },
    {
      "cell_type": "markdown",
      "source": [
        "### What all manipulations have you done and insights you found?"
      ],
      "metadata": {
        "id": "MSa1f5Uengrz"
      }
    },
    {
      "cell_type": "markdown",
      "source": [
        "1. Grouping multiple TED events together into easily interpretable groups\n",
        "2. Creating new datetime features like day, year, month, time_since_published for better evaluation of data\n",
        "3. Finding NUmber of unique topics and Available_languages from the dataset\n",
        "4. Finding average views of Speaker"
      ],
      "metadata": {
        "id": "LbyXE7I1olp8"
      }
    },
    {
      "cell_type": "markdown",
      "source": [
        "## ***4. Data Vizualization, Storytelling & Experimenting with charts : Understand the relationships between variables***"
      ],
      "metadata": {
        "id": "GF8Ens_Soomf"
      }
    },
    {
      "cell_type": "markdown",
      "source": [
        "#### Chart - 1"
      ],
      "metadata": {
        "id": "0wOQAZs5pc--"
      }
    },
    {
      "cell_type": "code",
      "source": [
        "temp=ted_df.groupby(['speaker_1'],as_index=False)['views'].sum().sort_values('views',ascending=False)[:5]\n",
        "plt.figure(figsize=(10,8)) \n",
        "ax=sns.barplot(x='speaker_1', y='views',data=temp)\n",
        "plt.setp(ax.get_xticklabels(), rotation=50);\n",
        "plt.title('Top 5 speaker according to views')\n",
        "plt.xlabel('Speaker')\n",
        "plt.ylabel('Views (In Millions')\n",
        "ax.grid(False)"
      ],
      "metadata": {
        "id": "7v_ESjsspbW7"
      },
      "execution_count": null,
      "outputs": []
    },
    {
      "cell_type": "code",
      "source": [
        "speaker_count = ted_df['speaker_1'].value_counts()\n",
        "speaker_count"
      ],
      "metadata": {
        "id": "pNohEzwcix2s"
      },
      "execution_count": null,
      "outputs": []
    },
    {
      "cell_type": "markdown",
      "source": [
        "##### 1. Why did you pick the specific chart?"
      ],
      "metadata": {
        "id": "K5QZ13OEpz2H"
      }
    },
    {
      "cell_type": "markdown",
      "source": [
        "Barplot describes count of various features wrt target variable"
      ],
      "metadata": {
        "id": "XESiWehPqBRc"
      }
    },
    {
      "cell_type": "markdown",
      "source": [
        "##### 2. What is/are the insight(s) found from the chart?"
      ],
      "metadata": {
        "id": "lQ7QKXXCp7Bj"
      }
    },
    {
      "cell_type": "markdown",
      "source": [
        "Chart describes the top 5 speakers wrt views generated"
      ],
      "metadata": {
        "id": "C_j1G7yiqdRP"
      }
    },
    {
      "cell_type": "markdown",
      "source": [
        "##### 3. Will the gained insights help creating a positive business impact? \n",
        "Are there any insights that lead to negative growth? Justify with specific reason."
      ],
      "metadata": {
        "id": "448CDAPjqfQr"
      }
    },
    {
      "cell_type": "markdown",
      "source": [
        "Chart gives insight into most popular speakers and correspondingly the topics and available languages"
      ],
      "metadata": {
        "id": "3cspy4FjqxJW"
      }
    },
    {
      "cell_type": "markdown",
      "source": [
        "#### Chart - 2"
      ],
      "metadata": {
        "id": "KSlN3yHqYklG"
      }
    },
    {
      "cell_type": "code",
      "source": [
        "speaker_count = ted_df['speaker_1'].value_counts()\n",
        "speaker_count = pd.DataFrame(speaker_count).reset_index()\n",
        "speaker_count.columns = ['Speaker_Name', 'talks_delivered']\n",
        "most_talks = speaker_count.nlargest(5, 'talks_delivered')\n",
        "plt.figure(figsize=(10,6))\n",
        "sns.barplot(x = 'Speaker_Name', y = 'talks_delivered', data = most_talks)"
      ],
      "metadata": {
        "id": "R4YgtaqtYklH"
      },
      "execution_count": null,
      "outputs": []
    },
    {
      "cell_type": "markdown",
      "source": [
        "##### 1. Why did you pick the specific chart?"
      ],
      "metadata": {
        "id": "t6dVpIINYklI"
      }
    },
    {
      "cell_type": "markdown",
      "source": [
        "Barplot describes count of various features wrt target variable"
      ],
      "metadata": {
        "id": "5aaW0BYyYklI"
      }
    },
    {
      "cell_type": "markdown",
      "source": [
        "##### 2. What is/are the insight(s) found from the chart?"
      ],
      "metadata": {
        "id": "ijmpgYnKYklI"
      }
    },
    {
      "cell_type": "markdown",
      "source": [
        "Chart describes the Top 5 speakers wrt talks delivered from all events combined"
      ],
      "metadata": {
        "id": "PSx9atu2YklI"
      }
    },
    {
      "cell_type": "markdown",
      "source": [
        "##### 3. Will the gained insights help creating a positive business impact? \n",
        "Are there any insights that lead to negative growth? Justify with specific reason."
      ],
      "metadata": {
        "id": "-JiQyfWJYklI"
      }
    },
    {
      "cell_type": "markdown",
      "source": [
        "Chart gives insight into most active speakers and whether it is linked to popularity(views) of the event"
      ],
      "metadata": {
        "id": "BcBbebzrYklV"
      }
    },
    {
      "cell_type": "markdown",
      "source": [
        "#### Chart - 3"
      ],
      "metadata": {
        "id": "EM7whBJCYoAo"
      }
    },
    {
      "cell_type": "code",
      "source": [
        "temp=ted_df.groupby(['title'],as_index=False)['views'].sum().sort_values('views',ascending=False)[:5]\n",
        "plt.figure(figsize=(10,8)) \n",
        "ax=sns.barplot(x='title', y='views',data=temp)\n",
        "plt.setp(ax.get_xticklabels(), rotation=65);\n",
        "plt.title('Top 5 title according to views')\n",
        "plt.xlabel('Titles')\n",
        "plt.ylabel('Views (In Millions)')\n",
        "ax.grid(False)"
      ],
      "metadata": {
        "id": "t6GMdE67YoAp"
      },
      "execution_count": null,
      "outputs": []
    },
    {
      "cell_type": "markdown",
      "source": [
        "##### 1. Why did you pick the specific chart?"
      ],
      "metadata": {
        "id": "fge-S5ZAYoAp"
      }
    },
    {
      "cell_type": "markdown",
      "source": [
        "Barplot describes count of various features wrt target variable"
      ],
      "metadata": {
        "id": "5dBItgRVYoAp"
      }
    },
    {
      "cell_type": "markdown",
      "source": [
        "##### 2. What is/are the insight(s) found from the chart?"
      ],
      "metadata": {
        "id": "85gYPyotYoAp"
      }
    },
    {
      "cell_type": "markdown",
      "source": [
        "Chart describes Top titles that generate maximum views"
      ],
      "metadata": {
        "id": "4jstXR6OYoAp"
      }
    },
    {
      "cell_type": "markdown",
      "source": [
        "##### 3. Will the gained insights help creating a positive business impact? \n",
        "Are there any insights that lead to negative growth? Justify with specific reason."
      ],
      "metadata": {
        "id": "RoGjAbkUYoAp"
      }
    },
    {
      "cell_type": "markdown",
      "source": [
        "Chart gives insight into overall theme of the event that audience is most interested in"
      ],
      "metadata": {
        "id": "zfJ8IqMcYoAp"
      }
    },
    {
      "cell_type": "markdown",
      "source": [
        "#### Chart - 4"
      ],
      "metadata": {
        "id": "4Of9eVA-YrdM"
      }
    },
    {
      "cell_type": "code",
      "source": [
        "temp=ted_df.groupby(['Event_Category'],as_index=False)['views'].sum().sort_values('views',ascending=False)[:5]\n",
        "plt.figure(figsize=(8,6)) \n",
        "ax=sns.barplot(x='Event_Category', y='views',data=temp)\n",
        "plt.setp(ax.get_xticklabels(), rotation=50);\n",
        "plt.title('Top 5 events according to views')\n",
        "plt.xlabel('Events')\n",
        "plt.ylabel('Views (In Millions)')\n",
        "ax.grid(False)"
      ],
      "metadata": {
        "id": "irlUoxc8YrdO"
      },
      "execution_count": null,
      "outputs": []
    },
    {
      "cell_type": "markdown",
      "source": [
        "##### 1. Why did you pick the specific chart?"
      ],
      "metadata": {
        "id": "iky9q4vBYrdO"
      }
    },
    {
      "cell_type": "markdown",
      "source": [
        "Barplot describes count of various features wrt target variable"
      ],
      "metadata": {
        "id": "aJRCwT6DYrdO"
      }
    },
    {
      "cell_type": "markdown",
      "source": [
        "##### 2. What is/are the insight(s) found from the chart?"
      ],
      "metadata": {
        "id": "F6T5p64dYrdO"
      }
    },
    {
      "cell_type": "markdown",
      "source": [
        "When grouped together it can be seen that , TED events happened in 2000s are the most viewed followed by TED_Other which contains various small events organised by TED"
      ],
      "metadata": {
        "id": "Xx8WAJvtYrdO"
      }
    },
    {
      "cell_type": "markdown",
      "source": [
        "##### 3. Will the gained insights help creating a positive business impact? \n",
        "Are there any insights that lead to negative growth? Justify with specific reason."
      ],
      "metadata": {
        "id": "y-Ehk30pYrdP"
      }
    },
    {
      "cell_type": "markdown",
      "source": [
        "Chart gives an insight into popularity of particular TED events , & which events needs to be more focus and development"
      ],
      "metadata": {
        "id": "jLNxxz7MYrdP"
      }
    },
    {
      "cell_type": "markdown",
      "source": [
        "#### Chart - 5"
      ],
      "metadata": {
        "id": "bamQiAODYuh1"
      }
    },
    {
      "cell_type": "code",
      "source": [
        "temp=ted_df.groupby(['Month'],as_index=False)['views'].sum().sort_values('views',ascending=False)\n",
        "plt.figure(figsize=(8,6)) \n",
        "ax= sns.barplot(x='Month', y='views',data=temp)\n",
        "plt.setp(ax.get_xticklabels(), rotation=50);\n",
        "plt.xlabel('Months')\n",
        "plt.ylabel('Views (In Millions)')\n",
        "ax.grid(False)"
      ],
      "metadata": {
        "id": "TIJwrbroYuh3"
      },
      "execution_count": null,
      "outputs": []
    },
    {
      "cell_type": "markdown",
      "source": [
        "##### 1. Why did you pick the specific chart?"
      ],
      "metadata": {
        "id": "QHF8YVU7Yuh3"
      }
    },
    {
      "cell_type": "markdown",
      "source": [
        "To get a detailed insight into months with most active audiences"
      ],
      "metadata": {
        "id": "dcxuIMRPYuh3"
      }
    },
    {
      "cell_type": "markdown",
      "source": [
        "##### 2. What is/are the insight(s) found from the chart?"
      ],
      "metadata": {
        "id": "GwzvFGzlYuh3"
      }
    },
    {
      "cell_type": "markdown",
      "source": [
        "It can be seen that March is the most popular month & August the least popular month as far as TED events are concerned"
      ],
      "metadata": {
        "id": "uyqkiB8YYuh3"
      }
    },
    {
      "cell_type": "markdown",
      "source": [
        "##### 3. Will the gained insights help creating a positive business impact? \n",
        "Are there any insights that lead to negative growth? Justify with specific reason."
      ],
      "metadata": {
        "id": "qYpmQ266Yuh3"
      }
    },
    {
      "cell_type": "markdown",
      "source": [
        "Chart gives insight into the period of year when audience are more active"
      ],
      "metadata": {
        "id": "_WtzZ_hCYuh4"
      }
    },
    {
      "cell_type": "markdown",
      "source": [
        "#### Chart - 6"
      ],
      "metadata": {
        "id": "OH-pJp9IphqM"
      }
    },
    {
      "cell_type": "code",
      "source": [
        "temp=ted_df.groupby(['Day'],as_index=False)['views'].sum().sort_values('views',ascending=False)\n",
        "plt.figure(figsize=(8,6)) \n",
        "ax= sns.barplot(x='Day', y='views',data=temp)\n",
        "plt.setp(ax.get_xticklabels(), rotation=50);\n",
        "plt.xlabel('Day')\n",
        "plt.ylabel('Views (In Millions)')\n",
        "ax.grid(False)"
      ],
      "metadata": {
        "id": "kuRf4wtuphqN"
      },
      "execution_count": null,
      "outputs": []
    },
    {
      "cell_type": "markdown",
      "source": [
        "##### 1. Why did you pick the specific chart?"
      ],
      "metadata": {
        "id": "bbFf2-_FphqN"
      }
    },
    {
      "cell_type": "markdown",
      "source": [
        "To get information regarding most popular day in most popular months"
      ],
      "metadata": {
        "id": "loh7H2nzphqN"
      }
    },
    {
      "cell_type": "markdown",
      "source": [
        "##### 2. What is/are the insight(s) found from the chart?"
      ],
      "metadata": {
        "id": "_ouA3fa0phqN"
      }
    },
    {
      "cell_type": "markdown",
      "source": [
        "While March was the most popular month , Friday is the day with most active audiences"
      ],
      "metadata": {
        "id": "VECbqPI7phqN"
      }
    },
    {
      "cell_type": "markdown",
      "source": [
        "##### 3. Will the gained insights help creating a positive business impact? \n",
        "Are there any insights that lead to negative growth? Justify with specific reason."
      ],
      "metadata": {
        "id": "Seke61FWphqN"
      }
    },
    {
      "cell_type": "markdown",
      "source": [
        "Chart gives insight into,When to schedule the events wrt day, year"
      ],
      "metadata": {
        "id": "DW4_bGpfphqN"
      }
    },
    {
      "cell_type": "markdown",
      "source": [
        "#### Chart - 7"
      ],
      "metadata": {
        "id": "PIIx-8_IphqN"
      }
    },
    {
      "cell_type": "code",
      "source": [
        "temp=ted_df.groupby(['Num_of_Topics'],as_index=False)['views'].sum().sort_values('views',ascending=False)\n",
        "plt.figure(figsize=(8,6)) \n",
        "ax= sns.barplot(x='Num_of_Topics', y='views',data=temp)\n",
        "plt.setp(ax.get_xticklabels(), rotation=50);\n",
        "plt.xlabel('Num_of_Topics')\n",
        "plt.ylabel('Views (In Millions)')\n",
        "ax.grid(False)"
      ],
      "metadata": {
        "id": "lqAIGUfyphqO"
      },
      "execution_count": null,
      "outputs": []
    },
    {
      "cell_type": "markdown",
      "source": [
        "##### 1. Why did you pick the specific chart?"
      ],
      "metadata": {
        "id": "t27r6nlMphqO"
      }
    },
    {
      "cell_type": "markdown",
      "source": [
        "To get the number of topis wrt each event"
      ],
      "metadata": {
        "id": "iv6ro40sphqO"
      }
    },
    {
      "cell_type": "markdown",
      "source": [
        "##### 2. What is/are the insight(s) found from the chart?"
      ],
      "metadata": {
        "id": "r2jJGEOYphqO"
      }
    },
    {
      "cell_type": "markdown",
      "source": [
        "It can be seen that maixmum views are generated when Num_of_Topics lie in the range of 4-7 , whereas views go on decreasing as Num_of_Topics go on increasing beyond that, which can be associated with the increase in time duration of an event also"
      ],
      "metadata": {
        "id": "Po6ZPi4hphqO"
      }
    },
    {
      "cell_type": "markdown",
      "source": [
        "##### 3. Will the gained insights help creating a positive business impact? \n",
        "Are there any insights that lead to negative growth? Justify with specific reason."
      ],
      "metadata": {
        "id": "b0JNsNcRphqO"
      }
    },
    {
      "cell_type": "markdown",
      "source": [
        "Chart gives insight into Number of topics , to schedule for each events"
      ],
      "metadata": {
        "id": "xvSq8iUTphqO"
      }
    },
    {
      "cell_type": "markdown",
      "source": [
        "#### Chart - 8"
      ],
      "metadata": {
        "id": "BZR9WyysphqO"
      }
    },
    {
      "cell_type": "code",
      "source": [
        "plt.figure(figsize=(10,5))\n",
        "sns.distplot(ted_df['Available_lang'])"
      ],
      "metadata": {
        "id": "TdPTWpAVphqO"
      },
      "execution_count": null,
      "outputs": []
    },
    {
      "cell_type": "markdown",
      "source": [
        "##### 1. Why did you pick the specific chart?"
      ],
      "metadata": {
        "id": "jj7wYXLtphqO"
      }
    },
    {
      "cell_type": "markdown",
      "source": [
        "Distplot describes continuous variables wrt to their density"
      ],
      "metadata": {
        "id": "Ob8u6rCTphqO"
      }
    },
    {
      "cell_type": "markdown",
      "source": [
        "##### 2. What is/are the insight(s) found from the chart?"
      ],
      "metadata": {
        "id": "eZrbJ2SmphqO"
      }
    },
    {
      "cell_type": "markdown",
      "source": [
        "On average a TED event is available in around 25 languages , which explains its wide reach and popularity"
      ],
      "metadata": {
        "id": "mZtgC_hjphqO"
      }
    },
    {
      "cell_type": "markdown",
      "source": [
        "##### 3. Will the gained insights help creating a positive business impact? \n",
        "Are there any insights that lead to negative growth? Justify with specific reason."
      ],
      "metadata": {
        "id": "rFu4xreNphqO"
      }
    },
    {
      "cell_type": "markdown",
      "source": [
        "Each event should be made available in as many languages as possible"
      ],
      "metadata": {
        "id": "ey_0qi68phqO"
      }
    },
    {
      "cell_type": "markdown",
      "source": [
        "#### Chart - 9"
      ],
      "metadata": {
        "id": "YJ55k-q6phqO"
      }
    },
    {
      "cell_type": "code",
      "source": [
        "temp=ted_df.groupby(['duration'],as_index=False)['views'].sum().sort_values('views',ascending=False)\n",
        "plt.figure(figsize=(8,6)) \n",
        "ax= plt.scatter(x='duration', y='views',data=temp)\n",
        "plt.xlabel('duration(in sec)')\n",
        "plt.ylabel('Views (In Millions)')"
      ],
      "metadata": {
        "id": "B2aS4O1ophqO"
      },
      "execution_count": null,
      "outputs": []
    },
    {
      "cell_type": "markdown",
      "source": [
        "##### 1. Why did you pick the specific chart?"
      ],
      "metadata": {
        "id": "gCFgpxoyphqP"
      }
    },
    {
      "cell_type": "markdown",
      "source": [
        "Scatter plot describes linearity in relationship between two features"
      ],
      "metadata": {
        "id": "TVxDimi2phqP"
      }
    },
    {
      "cell_type": "markdown",
      "source": [
        "##### 2. What is/are the insight(s) found from the chart?"
      ],
      "metadata": {
        "id": "OVtJsKN_phqQ"
      }
    },
    {
      "cell_type": "markdown",
      "source": [
        "The data is heavily influenced by outliers , hence no strong relationship between duration and views"
      ],
      "metadata": {
        "id": "ngGi97qjphqQ"
      }
    },
    {
      "cell_type": "markdown",
      "source": [
        "##### 3. Will the gained insights help creating a positive business impact? \n",
        "Are there any insights that lead to negative growth? Justify with specific reason."
      ],
      "metadata": {
        "id": "lssrdh5qphqQ"
      }
    },
    {
      "cell_type": "markdown",
      "source": [
        "No insight wrt business growth"
      ],
      "metadata": {
        "id": "tBpY5ekJphqQ"
      }
    },
    {
      "cell_type": "markdown",
      "source": [
        "#### Chart - 10"
      ],
      "metadata": {
        "id": "U2RJ9gkRphqQ"
      }
    },
    {
      "cell_type": "code",
      "source": [
        "comments_views = ted_df.groupby('comments')['views'].mean().astype(int).reset_index()\n",
        "comments_views = comments_views.sort_values(by ='views', ascending = False)\n",
        "\n",
        "comments_views.plot(x='comments',\n",
        "                 y='views',\n",
        "                 kind='scatter',\n",
        "                 figsize = (10, 6))"
      ],
      "metadata": {
        "id": "GM7a4YP4phqQ"
      },
      "execution_count": null,
      "outputs": []
    },
    {
      "cell_type": "markdown",
      "source": [
        "##### 1. Why did you pick the specific chart?"
      ],
      "metadata": {
        "id": "1M8mcRywphqQ"
      }
    },
    {
      "cell_type": "markdown",
      "source": [
        "Scatter plot describes linearity in relationship between two features"
      ],
      "metadata": {
        "id": "8agQvks0phqQ"
      }
    },
    {
      "cell_type": "markdown",
      "source": [
        "##### 2. What is/are the insight(s) found from the chart?"
      ],
      "metadata": {
        "id": "tgIPom80phqQ"
      }
    },
    {
      "cell_type": "markdown",
      "source": [
        "There is a slight relationship , but data is heavily influenced by outliers"
      ],
      "metadata": {
        "id": "Qp13pnNzphqQ"
      }
    },
    {
      "cell_type": "markdown",
      "source": [
        "##### 3. Will the gained insights help creating a positive business impact? \n",
        "Are there any insights that lead to negative growth? Justify with specific reason."
      ],
      "metadata": {
        "id": "JMzcOPDDphqR"
      }
    },
    {
      "cell_type": "markdown",
      "source": [
        "No insight wrt business growth"
      ],
      "metadata": {
        "id": "R4Ka1PC2phqR"
      }
    },
    {
      "cell_type": "markdown",
      "source": [
        "#### Chart - 11 - Correlation Heatmap"
      ],
      "metadata": {
        "id": "x-EpHcCOp1ci"
      }
    },
    {
      "cell_type": "code",
      "source": [
        "plt.figure(figsize = (10,9))\n",
        "correlation = ted_df.corr()\n",
        "sns.heatmap(abs(correlation), annot=True, cmap = 'flare')"
      ],
      "metadata": {
        "id": "mAQTIvtqp1cj"
      },
      "execution_count": null,
      "outputs": []
    },
    {
      "cell_type": "markdown",
      "source": [
        "##### 1. Why did you pick the specific chart?"
      ],
      "metadata": {
        "id": "X_VqEhTip1ck"
      }
    },
    {
      "cell_type": "markdown",
      "source": [
        "Heatmap describes Multicollinearity between all the features in the dataset"
      ],
      "metadata": {
        "id": "-vsMzt_np1ck"
      }
    },
    {
      "cell_type": "markdown",
      "source": [
        "##### 2. What is/are the insight(s) found from the chart?"
      ],
      "metadata": {
        "id": "8zGJKyg5p1ck"
      }
    },
    {
      "cell_type": "markdown",
      "source": [
        "No significant collinearity between any two features, except Time_since_published V/s year & Speaker_avg_views V/s views. But they are important wrt model implementation . Hence no changes made"
      ],
      "metadata": {
        "id": "ZYdMsrqVp1ck"
      }
    },
    {
      "cell_type": "markdown",
      "source": [
        "#### Chart - 12 - Pair Plot "
      ],
      "metadata": {
        "id": "n3dbpmDWp1ck"
      }
    },
    {
      "cell_type": "code",
      "source": [
        "sns.pairplot(ted_df[1:])"
      ],
      "metadata": {
        "id": "bwevp1tKp1ck"
      },
      "execution_count": null,
      "outputs": []
    },
    {
      "cell_type": "markdown",
      "source": [
        "##### 1. Why did you pick the specific chart?"
      ],
      "metadata": {
        "id": "ylSl6qgtp1ck"
      }
    },
    {
      "cell_type": "markdown",
      "source": [
        "To understand relation between all features in the dataset"
      ],
      "metadata": {
        "id": "m2xqNkiQp1ck"
      }
    },
    {
      "cell_type": "markdown",
      "source": [
        "##### 2. What is/are the insight(s) found from the chart?"
      ],
      "metadata": {
        "id": "ZWILFDl5p1ck"
      }
    },
    {
      "cell_type": "markdown",
      "source": [
        "There is no significant relation between any two features, which indicates No Multicollinearity"
      ],
      "metadata": {
        "id": "x-lUsV2mp1ck"
      }
    },
    {
      "cell_type": "markdown",
      "source": [
        "## ***6. Feature Engineering & Data Pre-processing***"
      ],
      "metadata": {
        "id": "yLjJCtPM0KBk"
      }
    },
    {
      "cell_type": "markdown",
      "source": [
        "### 1. Handling Missing Values"
      ],
      "metadata": {
        "id": "xiyOF9F70UgQ"
      }
    },
    {
      "cell_type": "code",
      "source": [
        "ted_df['occupations'].fillna('NA', inplace=True)\n",
        "ted_df['about_speakers'].fillna( 'NA' , inplace =True)\n",
        "ted_df['comments'].fillna(0, inplace =True)\n",
        "ted_df['all_speakers'].fillna( 'NA' , inplace =True)"
      ],
      "metadata": {
        "id": "iRsAHk1K0fpS"
      },
      "execution_count": null,
      "outputs": []
    },
    {
      "cell_type": "markdown",
      "source": [
        "#### What all missing value imputation techniques have you used and why did you use those techniques?"
      ],
      "metadata": {
        "id": "7wuGOrhz0itI"
      }
    },
    {
      "cell_type": "markdown",
      "source": [
        "1. Object type data-types were replaced with 'NA'\n",
        "2. Integer data-types were replaced with '0'"
      ],
      "metadata": {
        "id": "1ixusLtI0pqI"
      }
    },
    {
      "cell_type": "markdown",
      "source": [
        "### 2. Handling Outliers"
      ],
      "metadata": {
        "id": "id1riN9m0vUs"
      }
    },
    {
      "cell_type": "markdown",
      "source": [
        "Duration"
      ],
      "metadata": {
        "id": "WV6BcEL5qBSZ"
      }
    },
    {
      "cell_type": "code",
      "source": [
        "sns.boxplot(ted_df['duration'], data= ted_df)\n",
        "     "
      ],
      "metadata": {
        "id": "vmteWgDMqB_I"
      },
      "execution_count": null,
      "outputs": []
    },
    {
      "cell_type": "code",
      "source": [
        "percentile_q1 = np.percentile(ted_df['duration'],25)\n",
        "print(percentile_q1)\n",
        "percentile_q2 = np.percentile(ted_df['duration'],50)\n",
        "print(percentile_q2)\n",
        "percentile_q3 = np.percentile(ted_df['duration'],75)\n",
        "print(percentile_q3)"
      ],
      "metadata": {
        "id": "znuIMKHnp1Tn"
      },
      "execution_count": null,
      "outputs": []
    },
    {
      "cell_type": "code",
      "source": [
        "iqr_duration =  percentile_q3 - percentile_q1\n",
        "print(iqr_duration)"
      ],
      "metadata": {
        "id": "9E2gzx97p_tn"
      },
      "execution_count": null,
      "outputs": []
    },
    {
      "cell_type": "code",
      "source": [
        "ted_df['duration']= ted_df['duration'].mask(ted_df['duration']>(ted_df['duration'].quantile(0.75)+1.5* iqr_duration), ted_df['duration'].mean())"
      ],
      "metadata": {
        "id": "QfHB3m2qp_i3"
      },
      "execution_count": null,
      "outputs": []
    },
    {
      "cell_type": "code",
      "source": [
        "sns.boxplot(ted_df['duration'], data= ted_df)"
      ],
      "metadata": {
        "id": "fvJHI7Vap_TK"
      },
      "execution_count": null,
      "outputs": []
    },
    {
      "cell_type": "markdown",
      "source": [
        "Comments"
      ],
      "metadata": {
        "id": "zr_q8acOqC0l"
      }
    },
    {
      "cell_type": "code",
      "source": [
        "sns.boxplot(ted_df['comments'], data= ted_df)"
      ],
      "metadata": {
        "id": "IqW6iKzCqEIX"
      },
      "execution_count": null,
      "outputs": []
    },
    {
      "cell_type": "code",
      "source": [
        "iqr_comments = np.percentile(ted_df['comments'], 75) - np.percentile(ted_df['comments'],25)\n",
        "print(iqr_comments)"
      ],
      "metadata": {
        "id": "xp_cSMTbqD-u"
      },
      "execution_count": null,
      "outputs": []
    },
    {
      "cell_type": "code",
      "source": [
        "ted_df['comments']= ted_df['comments'].mask(ted_df['comments']>(ted_df['comments'].quantile(0.75)+1.5*iqr_comments), ted_df['comments'].mean())"
      ],
      "metadata": {
        "id": "f9yqWpjzqD18"
      },
      "execution_count": null,
      "outputs": []
    },
    {
      "cell_type": "code",
      "source": [
        "sns.boxplot(ted_df['comments'], data= ted_df)"
      ],
      "metadata": {
        "id": "VXrwuURPqDQO"
      },
      "execution_count": null,
      "outputs": []
    },
    {
      "cell_type": "markdown",
      "source": [
        "Available languages"
      ],
      "metadata": {
        "id": "eszDydyeqE4N"
      }
    },
    {
      "cell_type": "code",
      "source": [
        "sns.boxplot(ted_df['Available_lang'], data=ted_df)"
      ],
      "metadata": {
        "id": "Cpa68ZzbqF-2"
      },
      "execution_count": null,
      "outputs": []
    },
    {
      "cell_type": "code",
      "source": [
        "iqr_lang = np.percentile(ted_df['Available_lang'], 75) - np.percentile(ted_df['Available_lang'],25)\n",
        "print(iqr_lang)\n",
        "     "
      ],
      "metadata": {
        "id": "GY5bmmD3qF0J"
      },
      "execution_count": null,
      "outputs": []
    },
    {
      "cell_type": "code",
      "source": [
        "ted_df['Available_lang']= ted_df['Available_lang'].mask(ted_df['Available_lang']>(ted_df['Available_lang'].quantile(0.75)+1.5* iqr_lang), ted_df['Ava"
      ],
      "metadata": {
        "id": "qgYHcagzqFm8"
      },
      "execution_count": null,
      "outputs": []
    },
    {
      "cell_type": "code",
      "source": [
        "sns.boxplot(ted_df['Available_lang'], data=ted_df)"
      ],
      "metadata": {
        "id": "WZUrPvP6qFTm"
      },
      "execution_count": null,
      "outputs": []
    },
    {
      "cell_type": "markdown",
      "source": [
        "##### What all outlier treatment techniques have you used and why did you use those techniques?"
      ],
      "metadata": {
        "id": "578E2V7j08f6"
      }
    },
    {
      "cell_type": "markdown",
      "source": [
        "Inter-quartile range (IQR) method was used for treatment of outliers. Since,it shows how the data is distribubted around the median"
      ],
      "metadata": {
        "id": "uGZz5OrT1HH-"
      }
    },
    {
      "cell_type": "markdown",
      "source": [
        "### 3. Categorical Encoding"
      ],
      "metadata": {
        "id": "89xtkJwZ18nB"
      }
    },
    {
      "cell_type": "code",
      "source": [
        "ted_df.columns"
      ],
      "metadata": {
        "id": "21JmIYMG2hEo"
      },
      "execution_count": null,
      "outputs": []
    },
    {
      "cell_type": "code",
      "source": [
        "pair_df = [ted_df[['duration', 'comments', 'Available_lang', 'Num_of_Topics', 'daily_views', 'Speaker_avg_views', 'time_since_published', ]], \n",
        "              pd.get_dummies(ted_df[['Day','year', 'Month', 'day_num', 'Event_Category']], drop_first =False),\n",
        "              ted_df['views'] ]\n",
        "one_hot_df = pd.concat(pair_df, axis=1)\n",
        "one_hot_df.head(2)"
      ],
      "metadata": {
        "id": "h03j0dFPrkPd"
      },
      "execution_count": null,
      "outputs": []
    },
    {
      "cell_type": "markdown",
      "source": [
        "#### What all categorical encoding techniques have you used & why did you use those techniques?"
      ],
      "metadata": {
        "id": "67NQN5KX2AMe"
      }
    },
    {
      "cell_type": "markdown",
      "source": [
        "One-Hot Encoding Method was used for categorical encoding. Since, the categorical features contained many categories"
      ],
      "metadata": {
        "id": "UDaue5h32n_G"
      }
    },
    {
      "cell_type": "markdown",
      "source": [
        "### 4. Feature Manipulation & Selection"
      ],
      "metadata": {
        "id": "-oLEiFgy-5Pf"
      }
    },
    {
      "cell_type": "markdown",
      "source": [
        "#### 1. Feature Selection\n",
        "\n",
        "\n"
      ],
      "metadata": {
        "id": "2DejudWSA-a0"
      }
    },
    {
      "cell_type": "code",
      "source": [
        "one_hot_df.dropna(inplace=True)\n",
        "one_hot_df.replace([np.inf, -np.inf], 1, inplace=True)"
      ],
      "metadata": {
        "id": "YLhe8UmaBCEE"
      },
      "execution_count": null,
      "outputs": []
    },
    {
      "cell_type": "code",
      "source": [
        "features = [i for i in one_hot_df.columns if i not in ['views']]"
      ],
      "metadata": {
        "id": "WCgLeqiHr-od"
      },
      "execution_count": null,
      "outputs": []
    },
    {
      "cell_type": "code",
      "source": [
        "len(features)"
      ],
      "metadata": {
        "id": "m5H2rLXIsAtf"
      },
      "execution_count": null,
      "outputs": []
    },
    {
      "cell_type": "code",
      "source": [
        "X = one_hot_df[features].apply(zscore)\n",
        "y = (one_hot_df['views']).replace([np.inf, -np.inf], 0)"
      ],
      "metadata": {
        "id": "nN5ckUyOsC-E"
      },
      "execution_count": null,
      "outputs": []
    },
    {
      "cell_type": "code",
      "source": [
        "X.shape,y.shape"
      ],
      "metadata": {
        "id": "OfO2ZpyysE9i"
      },
      "execution_count": null,
      "outputs": []
    },
    {
      "cell_type": "markdown",
      "source": [
        "### 2. Data Scaling"
      ],
      "metadata": {
        "id": "rMDnDkt2B6du"
      }
    },
    {
      "cell_type": "code",
      "source": [
        "scaler = MinMaxScaler()\n",
        "scaler.fit(X)\n",
        "scaled_features = scaler.transform(X)"
      ],
      "metadata": {
        "id": "dL9LWpySC6x_"
      },
      "execution_count": null,
      "outputs": []
    },
    {
      "cell_type": "markdown",
      "source": [
        "##### Which method have you used to scale you data and why?"
      ],
      "metadata": {
        "id": "yiiVWRdJDDil"
      }
    },
    {
      "cell_type": "markdown",
      "source": [
        "MinMaxScaler method is used for scaling the data in the range [0,1]. It preserves the shape of original data and dosen't change the information embedded in the original data"
      ],
      "metadata": {
        "id": "vCFOVJTStEnm"
      }
    },
    {
      "cell_type": "markdown",
      "source": [
        "### 3. Data Splitting"
      ],
      "metadata": {
        "id": "BhH2vgX9EjGr"
      }
    },
    {
      "cell_type": "code",
      "source": [
        "X_train, X_test, y_train, y_test = train_test_split( X, y , test_size = 0.3, random_state = 0) \n",
        "print(X_train.shape)\n",
        "print(X_test.shape)"
      ],
      "metadata": {
        "id": "0CTyd2UwEyNM"
      },
      "execution_count": null,
      "outputs": []
    },
    {
      "cell_type": "markdown",
      "source": [
        "##### What data splitting ratio have you used and why? "
      ],
      "metadata": {
        "id": "qjKvONjwE8ra"
      }
    },
    {
      "cell_type": "markdown",
      "source": [
        "1. Splitting ratio = 0.3 , since increasing the test dataset any further,descreased the test score, sometimes causing the model to overfit\n",
        "2. Also, descreasing the splitting ratio caused some models to underfit"
      ],
      "metadata": {
        "id": "Y2lJ8cobFDb_"
      }
    },
    {
      "cell_type": "markdown",
      "source": [
        "## ***7. ML Model Implementation***"
      ],
      "metadata": {
        "id": "VfCC591jGiD4"
      }
    },
    {
      "cell_type": "markdown",
      "source": [
        "### ML Model - 1 : Linear Regression"
      ],
      "metadata": {
        "id": "cVinZGWYv6M_"
      }
    },
    {
      "cell_type": "markdown",
      "source": [
        "Linear Regression"
      ],
      "metadata": {
        "id": "6Ms6uRHEv6NA"
      }
    },
    {
      "cell_type": "code",
      "source": [
        "# Instantiating Linear Model\n",
        "lr = LinearRegression()\n",
        "# Fit the Algorithm\n",
        "lr.fit(X_train, y_train)"
      ],
      "metadata": {
        "id": "34qe96SXv6NA"
      },
      "execution_count": null,
      "outputs": []
    },
    {
      "cell_type": "code",
      "source": [
        "print(\"Training set score: {:.2f}\".format(lr.score(X_train, y_train)))\n",
        "print(\"Test set score: {:.2f}\".format(lr.score(X_test, y_test)))"
      ],
      "metadata": {
        "id": "U5zwY--gv6NB"
      },
      "execution_count": null,
      "outputs": []
    },
    {
      "cell_type": "code",
      "source": [
        "lr.coef_\n",
        "     "
      ],
      "metadata": {
        "id": "1jb2w2Hwv6NC"
      },
      "execution_count": null,
      "outputs": []
    },
    {
      "cell_type": "code",
      "source": [
        "y_pred = lr.predict(X_test)"
      ],
      "metadata": {
        "id": "JLXzvcAiv6NC"
      },
      "execution_count": null,
      "outputs": []
    },
    {
      "cell_type": "markdown",
      "source": [
        "#### 1. Explain the ML Model used and it's performance using Evaluation metric Score Chart."
      ],
      "metadata": {
        "id": "v8u6vnB7v6ND"
      }
    },
    {
      "cell_type": "code",
      "source": [
        "MAE= mean_absolute_error((y_test),(y_pred))\n",
        "print(\"MAE :\" ,MAE)\n",
        "\n",
        "MSE  = mean_squared_error((y_test),(y_pred))\n",
        "print(\"MSE :\" , MSE)\n",
        "\n",
        "RMSE = np.sqrt(MSE)\n",
        "print(\"RMSE :\" ,RMSE)\n",
        "\n",
        "r2 = r2_score((y_test), (y_pred))\n",
        "print(\"R2 :\" ,r2)\n",
        "\n",
        "n= X_test.shape[0]\n",
        "k= X_test.shape[1]\n",
        "adj_r2_score = 1 - ((1-r2)*(n-1)/(n-k-1))\n",
        "print(\"Adjusted R2 :\", adj_r2_score)"
      ],
      "metadata": {
        "id": "ZIoAeOyrv6ND"
      },
      "execution_count": null,
      "outputs": []
    },
    {
      "cell_type": "markdown",
      "source": [
        "#### 2. Cross- Validation & Hyperparameter Tuning"
      ],
      "metadata": {
        "id": "srrYn-zJv6NE"
      }
    },
    {
      "cell_type": "code",
      "source": [
        "lasso = Lasso()\n",
        "parameters = {'alpha': [1e-15,1e-13,1e-10,1e-8,1e-5,1e-4,1e-3,1e-2,1e-1,1,5,10,20,30,40,45,50,55,60,100]}\n",
        "lasso_regressor = GridSearchCV(lasso, parameters, scoring='neg_mean_squared_error', cv=4)\n",
        "lasso_regressor.fit(X_train, y_train)"
      ],
      "metadata": {
        "id": "LcJbCAbEv6NF"
      },
      "execution_count": null,
      "outputs": []
    },
    {
      "cell_type": "code",
      "source": [
        "print(\"The best fit alpha value is found out to be :\" ,lasso_regressor.best_params_)\n",
        "print(\"\\nUsing \",lasso_regressor.best_params_, \" the negative mean squared error is: \", lasso_regressor.best_score_)"
      ],
      "metadata": {
        "id": "Q72uZK5Xv6NF"
      },
      "execution_count": null,
      "outputs": []
    },
    {
      "cell_type": "code",
      "source": [
        "y_pred_lasso = lasso_regressor.predict(X_test)"
      ],
      "metadata": {
        "id": "yS522pY7v6NG"
      },
      "execution_count": null,
      "outputs": []
    },
    {
      "cell_type": "code",
      "source": [
        "MSE  = mean_squared_error((y_test), (y_pred_lasso))\n",
        "print(\"MSE :\" , MSE)\n",
        "\n",
        "MAE=mean_absolute_error((y_test),(y_pred_lasso))\n",
        "print(\"MAE :\" ,MAE)\n",
        "\n",
        "RMSE = np.sqrt(MSE)\n",
        "print(\"RMSE :\" ,RMSE)\n",
        "\n",
        "r2 = r2_score((y_test),(y_pred_lasso))\n",
        "print(\"R2 :\" ,r2)\n",
        "\n",
        "n= X_test.shape[0]\n",
        "k= X_test.shape[1]\n",
        "adj_r2_score = 1 - ((1-r2)*(n-1)/(n-k-1))\n",
        "print(\"Adjusted R2 :\", adj_r2_score)"
      ],
      "metadata": {
        "id": "5g1HuYLlv6NH"
      },
      "execution_count": null,
      "outputs": []
    },
    {
      "cell_type": "markdown",
      "source": [
        "Ridge (L1) Regularization"
      ],
      "metadata": {
        "id": "5SQG3A_Pv6NI"
      }
    },
    {
      "cell_type": "code",
      "source": [
        "ridge = Ridge(alpha=0.05).fit(X_train, y_train)      # 0..5 gives the least MSE and max r2\n",
        "print(\"Training set score: {:.2f}\".format(ridge.score(X_train, y_train)))\n",
        "print(\"Test set score: {:.2f}\".format(ridge.score(X_test, y_test)))\n"
      ],
      "metadata": {
        "id": "GWltZSIvv6NI"
      },
      "execution_count": null,
      "outputs": []
    },
    {
      "cell_type": "code",
      "source": [
        "y_pred_r = ridge.predict(X_test)"
      ],
      "metadata": {
        "id": "U11CzTVMv6NJ"
      },
      "execution_count": null,
      "outputs": []
    },
    {
      "cell_type": "code",
      "source": [
        "MSE  = mean_squared_error((y_test), (y_pred_r))\n",
        "print(\"MSE :\" , MSE)\n",
        "\n",
        "MAE=mean_absolute_error((y_test), (y_pred_r))\n",
        "print(\"MAE :\" ,MAE)\n",
        "\n",
        "RMSE = np.sqrt(MSE)\n",
        "print(\"RMSE :\" ,RMSE)\n",
        "\n",
        "r2 = r2_score((y_test), (y_pred_r))\n",
        "print(\"R2 :\" ,r2)\n",
        "\n",
        "n= X_test.shape[0]\n",
        "k= X_test.shape[1]\n",
        "adj_r2_score = 1 - ((1-r2)*(n-1)/(n-k-1))\n",
        "print(\"Adjusted R2 :\", adj_r2_score)"
      ],
      "metadata": {
        "id": "RBcK0OJUv6NJ"
      },
      "execution_count": null,
      "outputs": []
    },
    {
      "cell_type": "code",
      "source": [
        "plt.figure(figsize=(15,7))\n",
        "plt.plot(np.square(y_pred_r[:100]))\n",
        "plt.plot(np.square(np.array(y_test[:100])))\n",
        "plt.legend([\"Predicted\",\"Actual\"])\n",
        "plt.show()"
      ],
      "metadata": {
        "id": "ISRhkDt5v6NK"
      },
      "execution_count": null,
      "outputs": []
    },
    {
      "cell_type": "markdown",
      "source": [
        "### ML Model - 1.2 : Lasso (L2) *Regularization*"
      ],
      "metadata": {
        "id": "f9Is3NH7wafr"
      }
    },
    {
      "cell_type": "markdown",
      "source": [
        "Lasso (L2) Regularization"
      ],
      "metadata": {
        "id": "WIXqEFGPwaft"
      }
    },
    {
      "cell_type": "code",
      "source": [
        "lasso = Lasso(alpha=0.1).fit(X_train, y_train)              # 0.1 gives the least MSE and max r2\n",
        "print(\"Training set score: {:.2f}\".format(lasso.score(X_train, y_train)))\n",
        "print(\"Test set score: {:.2f}\".format(lasso.score(X_test, y_test)))\n",
        "print(\"Number of features used: {}\".format(np.sum(lasso.coef_ != 0)))"
      ],
      "metadata": {
        "id": "JzVfNnitwafu"
      },
      "execution_count": null,
      "outputs": []
    },
    {
      "cell_type": "code",
      "source": [
        "y_pred_l = lasso.predict(X_test)"
      ],
      "metadata": {
        "id": "pLHS6s9zwafv"
      },
      "execution_count": null,
      "outputs": []
    },
    {
      "cell_type": "code",
      "source": [
        "plt.figure(figsize=(15,7))\n",
        "plt.plot(np.square(y_pred_r[:100]))\n",
        "plt.plot(np.square(np.array(y_test[:100])))\n",
        "plt.legend([\"Predicted\",\"Actual\"])\n",
        "plt.show()"
      ],
      "metadata": {
        "id": "HhmlYkTnwafw"
      },
      "execution_count": null,
      "outputs": []
    },
    {
      "cell_type": "markdown",
      "source": [
        "#### 1. Explain the ML Model used and it's performance using Evaluation metric Score Chart."
      ],
      "metadata": {
        "id": "CvtztOC2wafy"
      }
    },
    {
      "cell_type": "markdown",
      "source": [
        "Regularization of Linear , Lasso (L2) is used for model optimization, though there is no significant improvement in the performance"
      ],
      "metadata": {
        "id": "SNBmhDv7xgSu"
      }
    },
    {
      "cell_type": "code",
      "source": [
        "MSE  = mean_squared_error((y_test), (y_pred_l))\n",
        "print(\"MSE :\" , MSE)\n",
        "\n",
        "MAE=mean_absolute_error((y_test),(y_pred_l))\n",
        "print(\"MAE :\" ,MAE)\n",
        "\n",
        "RMSE = np.sqrt(MSE)\n",
        "print(\"RMSE :\" ,RMSE)\n",
        "\n",
        "r2 = r2_score((y_test),(y_pred_l))\n",
        "print(\"R2 :\" ,r2)\n",
        "\n",
        "n= X_test.shape[0]\n",
        "k= X_test.shape[1]\n",
        "adj_r2_score = 1 - ((1-r2)*(n-1)/(n-k-1))\n",
        "print(\"Adjusted R2 :\", adj_r2_score)"
      ],
      "metadata": {
        "id": "U0JSoVVYxf2s"
      },
      "execution_count": null,
      "outputs": []
    },
    {
      "cell_type": "code",
      "source": [
        "plt.figure(figsize=(15,7))\n",
        "plt.plot(np.square(y_pred_l[:100]))\n",
        "plt.plot(np.square(np.array(y_test[:100])))\n",
        "plt.legend([\"Predicted\",\"Actual\"])\n",
        "plt.show()"
      ],
      "metadata": {
        "id": "gd63KEQswafz"
      },
      "execution_count": null,
      "outputs": []
    },
    {
      "cell_type": "markdown",
      "source": [
        "#### 2. Cross- Validation & Hyperparameter Tuning"
      ],
      "metadata": {
        "id": "eW8XKZ_Ewaf0"
      }
    },
    {
      "cell_type": "code",
      "source": [
        "lasso = Lasso()\n",
        "parameters = {'alpha': [1e-15,1e-13,1e-10,1e-8,1e-5,1e-4,1e-3,1e-2,1e-1,1,5,10,20,30,40,45,50,55,60,100]}\n",
        "lasso_regressor = GridSearchCV(lasso, parameters, scoring='neg_mean_squared_error', cv=4)\n",
        "lasso_regressor.fit(X_train, y_train)"
      ],
      "metadata": {
        "id": "hdg4crfSwaf1"
      },
      "execution_count": null,
      "outputs": []
    },
    {
      "cell_type": "code",
      "source": [
        "print(\"The best fit alpha value is found out to be :\" ,lasso_regressor.best_params_)\n",
        "print(\"\\nUsing \",lasso_regressor.best_params_, \" the negative mean squared error is: \", lasso_regressor.best_score_)"
      ],
      "metadata": {
        "id": "1t7HKjp1waf2"
      },
      "execution_count": null,
      "outputs": []
    },
    {
      "cell_type": "code",
      "source": [
        "y_pred_lasso = lasso_regressor.predict(X_test)\n",
        "     "
      ],
      "metadata": {
        "id": "A2EFUm83waf4"
      },
      "execution_count": null,
      "outputs": []
    },
    {
      "cell_type": "code",
      "source": [
        "MSE  = mean_squared_error((y_test), (y_pred_lasso))\n",
        "print(\"MSE :\" , MSE)\n",
        "\n",
        "MAE=mean_absolute_error((y_test),(y_pred_lasso))\n",
        "print(\"MAE :\" ,MAE)\n",
        "\n",
        "RMSE = np.sqrt(MSE)\n",
        "print(\"RMSE :\" ,RMSE)\n",
        "\n",
        "r2 = r2_score((y_test),(y_pred_lasso))\n",
        "print(\"R2 :\" ,r2)\n",
        "\n",
        "n= X_test.shape[0]\n",
        "k= X_test.shape[1]\n",
        "adj_r2_score = 1 - ((1-r2)*(n-1)/(n-k-1))\n",
        "print(\"Adjusted R2 :\", adj_r2_score)"
      ],
      "metadata": {
        "id": "DDkENz8Uwaf5"
      },
      "execution_count": null,
      "outputs": []
    },
    {
      "cell_type": "markdown",
      "source": [
        "Which hyperparameter optimization technique have you used and why?**bold text**"
      ],
      "metadata": {
        "id": "sryHoeFix8u4"
      }
    },
    {
      "cell_type": "markdown",
      "source": [
        "GridSearchCV optimization technique was used.Since, it uses a combination of hyperparameters in a specific order & fits the model on each & every coombination of hyperparameters possible"
      ],
      "metadata": {
        "id": "C-thXSukyDGK"
      }
    },
    {
      "cell_type": "markdown",
      "source": [
        "**Have you seen any improvement? Note down the improvement with updates Evaluation metric Score Chart.**"
      ],
      "metadata": {
        "id": "kI93WSHEyC6m"
      }
    },
    {
      "cell_type": "markdown",
      "source": [
        "There is no significant improvement in the performance , even after using Hyperparameter optimization"
      ],
      "metadata": {
        "id": "vFLSOGd_yBxx"
      }
    },
    {
      "cell_type": "markdown",
      "source": [
        "**3. Explain each evaluation metric's indication towards business and the business impact of the ML model used**"
      ],
      "metadata": {
        "id": "rKxB87r_yUoo"
      }
    },
    {
      "cell_type": "markdown",
      "source": [
        "Though the R2 score of 0.76 is considerable , indicating better prediction . But the MAE is also high, indicating high error in model prediction"
      ],
      "metadata": {
        "id": "pGkehStXyBGO"
      }
    },
    {
      "cell_type": "markdown",
      "source": [
        "### ML Model - 1.3 : Linear Regression : Ridge Regression"
      ],
      "metadata": {
        "id": "pId2JDXgwVX1"
      }
    },
    {
      "cell_type": "code",
      "source": [
        "ridge = Ridge(alpha=0.05).fit(X_train, y_train)      # 0..5 gives the least MSE and max r2\n",
        "print(\"Training set score: {:.2f}\".format(ridge.score(X_train, y_train)))\n",
        "print(\"Test set score: {:.2f}\".format(ridge.score(X_test, y_test)))"
      ],
      "metadata": {
        "id": "1Z7YbJkGtZ1Q"
      },
      "execution_count": null,
      "outputs": []
    },
    {
      "cell_type": "code",
      "source": [
        "y_pred_r = ridge.predict(X_test)"
      ],
      "metadata": {
        "id": "7ebyywQieS1U"
      },
      "execution_count": null,
      "outputs": []
    },
    {
      "cell_type": "markdown",
      "source": [
        "#### 1. Explain the ML Model used and it's performance using Evaluation metric Score Chart."
      ],
      "metadata": {
        "id": "ArJBuiUVfxKd"
      }
    },
    {
      "cell_type": "code",
      "source": [
        "MSE  = mean_squared_error((y_test), (y_pred_r))\n",
        "print(\"MSE :\" , MSE)\n",
        "\n",
        "MAE=mean_absolute_error((y_test), (y_pred_r))\n",
        "print(\"MAE :\" ,MAE)\n",
        "\n",
        "RMSE = np.sqrt(MSE)\n",
        "print(\"RMSE :\" ,RMSE)\n",
        "\n",
        "r2 = r2_score((y_test), (y_pred_r))\n",
        "print(\"R2 :\" ,r2)\n",
        "\n",
        "n= X_test.shape[0]\n",
        "k= X_test.shape[1]\n",
        "adj_r2_score = 1 - ((1-r2)*(n-1)/(n-k-1))\n",
        "print(\"Adjusted R2 :\", adj_r2_score)"
      ],
      "metadata": {
        "id": "rqD5ZohzfxKe"
      },
      "execution_count": null,
      "outputs": []
    },
    {
      "cell_type": "code",
      "source": [
        "plt.figure(figsize=(15,7))\n",
        "plt.plot(np.square(y_pred_r[:100]))\n",
        "plt.plot(np.square(np.array(y_test[:100])))\n",
        "plt.legend([\"Predicted\",\"Actual\"])\n",
        "plt.show()"
      ],
      "metadata": {
        "id": "Ugg_eL7oyxWn"
      },
      "execution_count": null,
      "outputs": []
    },
    {
      "cell_type": "markdown",
      "source": [
        "#### 2. Cross- Validation & Hyperparameter Tuning"
      ],
      "metadata": {
        "id": "4qY1EAkEfxKe"
      }
    },
    {
      "cell_type": "code",
      "source": [
        "ridge = Ridge()\n",
        "parameters = {'alpha': [1e-15,1e-10,1e-8,1e-5,1e-4,1e-3,1e-2,1,5,10,20,30,40,45,50,55,60,100]}\n",
        "ridge_regressor = GridSearchCV(ridge, parameters, scoring='neg_mean_squared_error', cv=3)\n",
        "ridge_regressor.fit(X_train,y_train)"
      ],
      "metadata": {
        "id": "Dy61ujd6fxKe"
      },
      "execution_count": null,
      "outputs": []
    },
    {
      "cell_type": "code",
      "source": [
        "print(\"The best fit alpha value is found out to be :\" ,ridge_regressor.best_params_)\n",
        "print(\"\\nUsing \",ridge_regressor.best_params_, \" the negative mean squared error is: \", ridge_regressor.best_score_)"
      ],
      "metadata": {
        "id": "eRL3xtx6tzcP"
      },
      "execution_count": null,
      "outputs": []
    },
    {
      "cell_type": "code",
      "source": [
        "y_pred_ridge = ridge_regressor.predict(X_test)"
      ],
      "metadata": {
        "id": "C47ZM5MntzT8"
      },
      "execution_count": null,
      "outputs": []
    },
    {
      "cell_type": "code",
      "source": [
        "MSE  = mean_squared_error((y_test), (y_pred_ridge))\n",
        "print(\"MSE :\" , MSE)\n",
        "\n",
        "RMSE = np.sqrt(MSE)\n",
        "print(\"RMSE :\" ,RMSE)\n",
        "\n",
        "r2 = r2_score((y_test), (y_pred_ridge))\n",
        "print(\"R2 :\" ,r2)\n",
        "\n",
        "n= X_test.shape[0]\n",
        "k= X_test.shape[1]\n",
        "adj_r2_score = 1 - ((1-r2)*(n-1)/(n-k-1))\n",
        "print(\"Adjusted R2 :\", adj_r2_score)"
      ],
      "metadata": {
        "id": "ntbGzBvStzNG"
      },
      "execution_count": null,
      "outputs": []
    },
    {
      "cell_type": "markdown",
      "source": [
        "**Which hyperparameter optimization technique have you used and why?**"
      ],
      "metadata": {
        "id": "9aqGxKrzzA4L"
      }
    },
    {
      "cell_type": "markdown",
      "source": [
        "GridSearchCV optimization technique was used.Since, it uses a combination of hyperparameters in a specific order & fits the model on each & every coombination of hyperparameters possible"
      ],
      "metadata": {
        "id": "mpusMESjzAhq"
      }
    },
    {
      "cell_type": "markdown",
      "source": [
        "**Have you seen any improvement? Note down the improvement with updates Evaluation metric Score Chart.**"
      ],
      "metadata": {
        "id": "SLtB3CW9zLHU"
      }
    },
    {
      "cell_type": "markdown",
      "source": [
        "There is no significant improvement in the performance , even after using Hyperparameter optimization"
      ],
      "metadata": {
        "id": "z3Y7JTMCzAX2"
      }
    },
    {
      "cell_type": "markdown",
      "source": [
        "### ML Model - 1.4 : Elastic Net Regression"
      ],
      "metadata": {
        "id": "oXLeVb0lvgh9"
      }
    },
    {
      "cell_type": "code",
      "source": [
        "elasticnet = ElasticNet(alpha=0.1, l1_ratio=0.5)\n",
        "elasticnet.fit(X_train,y_train)"
      ],
      "metadata": {
        "id": "bkA2cvnMvgh_"
      },
      "execution_count": null,
      "outputs": []
    },
    {
      "cell_type": "code",
      "source": [
        "print(\"Training set score: {:.2f}\".format(elasticnet.score(X_train, y_train)))\n",
        "print(\"Test set score: {:.2f}\".format(elasticnet.score(X_test, y_test)))"
      ],
      "metadata": {
        "id": "ealb4ZmWvgh_"
      },
      "execution_count": null,
      "outputs": []
    },
    {
      "cell_type": "code",
      "source": [
        "y_pred_e = elasticnet.predict(X_test)"
      ],
      "metadata": {
        "id": "TYn9IL-gvgh_"
      },
      "execution_count": null,
      "outputs": []
    },
    {
      "cell_type": "markdown",
      "source": [
        "#### 1. Explain the ML Model used and it's performance using Evaluation metric Score Chart."
      ],
      "metadata": {
        "id": "UNOP8pkfvgiA"
      }
    },
    {
      "cell_type": "code",
      "source": [
        "MSE  = mean_squared_error((y_test),(y_pred_e))\n",
        "print(\"MSE :\" , MSE)\n",
        "\n",
        "MAE = mean_absolute_error(y_test, y_pred_e)\n",
        "print(\"MAE :\", MAE)\n",
        "\n",
        "RMSE = np.sqrt(MSE)\n",
        "print(\"RMSE :\" ,RMSE)\n",
        "\n",
        "r2 = r2_score((y_test),(y_pred_e))\n",
        "print(\"R2 :\" ,r2)\n",
        "\n",
        "n= X_test.shape[0]\n",
        "k= X_test.shape[1]\n",
        "adj_r2_score = 1 - ((1-r2)*(n-1)/(n-k-1))\n",
        "print(\"Adjusted R2 :\", adj_r2_score)"
      ],
      "metadata": {
        "id": "00ztrgd7vgiA"
      },
      "execution_count": null,
      "outputs": []
    },
    {
      "cell_type": "markdown",
      "source": [
        "R2 score for Elastic-Net regression is lesser than Ridge & Lasso ,this is because Elastic regression generally works well on big datasets"
      ],
      "metadata": {
        "id": "aL-G7w36zmyO"
      }
    },
    {
      "cell_type": "code",
      "source": [
        "plt.figure(figsize=(15,7))\n",
        "plt.plot(np.square(y_pred_e[:100]))\n",
        "plt.plot(np.square(np.array(y_test[:100])))\n",
        "plt.legend([\"Predicted\",\"Actual\"])\n",
        "plt.show()\n",
        "     "
      ],
      "metadata": {
        "id": "6K6aGjGmzpcv"
      },
      "execution_count": null,
      "outputs": []
    },
    {
      "cell_type": "markdown",
      "source": [
        "### ML Model - 2 : Decision Tree Regression"
      ],
      "metadata": {
        "id": "mRmDzlNmuQv7"
      }
    },
    {
      "cell_type": "code",
      "source": [
        "dtree = DecisionTreeRegressor( random_state = 0, max_depth = 25)        # max_depth = 25 --> gives least MSE and max r2 score in comparison to other values\n",
        "parameters = {'n_estimators':[500],\n",
        "            }\n",
        "     "
      ],
      "metadata": {
        "id": "WjESL8lEz3Gz"
      },
      "execution_count": null,
      "outputs": []
    },
    {
      "cell_type": "code",
      "source": [
        "dtree.fit(X_train, y_train)"
      ],
      "metadata": {
        "id": "Qz6Gzofe0Csy"
      },
      "execution_count": null,
      "outputs": []
    },
    {
      "cell_type": "code",
      "source": [
        "print(\"Training set score: {:.3f}\".format(dtree.score(X_train, y_train)))\n",
        "print(\"Test set score: {:.3f}\".format(dtree.score(X_test, y_test)))"
      ],
      "metadata": {
        "id": "WzawYXw40CiN"
      },
      "execution_count": null,
      "outputs": []
    },
    {
      "cell_type": "code",
      "source": [
        "y_pred_d = dtree.predict(X_test)"
      ],
      "metadata": {
        "id": "_DEF3GUz0FXt"
      },
      "execution_count": null,
      "outputs": []
    },
    {
      "cell_type": "markdown",
      "source": [
        "#### 1. Explain the ML Model used and it's performance using Evaluation metric Score Chart."
      ],
      "metadata": {
        "id": "VZbRr1RhuQv8"
      }
    },
    {
      "cell_type": "code",
      "source": [
        "MSE  = mean_squared_error((y_test), (y_pred_d))\n",
        "print(\"MSE :\" , MSE)\n",
        "\n",
        "MAE = mean_absolute_error(y_test, y_pred_d)\n",
        "print(\"MAE\", MAE)\n",
        "\n",
        "RMSE = np.sqrt(MSE)\n",
        "print(\"RMSE :\" ,RMSE)\n",
        "\n",
        "r2 = r2_score((y_test), (y_pred_d))\n",
        "print(\"R2 :\" ,r2)\n",
        "\n",
        "n= X_test.shape[0]\n",
        "k= X_test.shape[1]\n",
        "adj_r2_score = 1 - ((1-r2)*(n-1)/(n-k-1))\n",
        "print(\"Adjusted R2 :\", adj_r2_score)"
      ],
      "metadata": {
        "id": "GGYozlzeuQv9"
      },
      "execution_count": null,
      "outputs": []
    },
    {
      "cell_type": "code",
      "source": [
        "plt.figure(figsize=(15,7))\n",
        "plt.plot(np.square(y_pred_d[:100]))\n",
        "plt.plot(np.square(np.array(y_test[:100])))\n",
        "plt.legend([\"Predicted\",\"Actual\"])\n",
        "plt.show()\n"
      ],
      "metadata": {
        "id": "sXAo8otZ0MRc"
      },
      "execution_count": null,
      "outputs": []
    },
    {
      "cell_type": "markdown",
      "source": [
        "From the training-score & test-score, it can be seen that model overfits"
      ],
      "metadata": {
        "id": "ROUuOfaz0MvF"
      }
    },
    {
      "cell_type": "markdown",
      "source": [
        "### ML Model - 3 : Bagging Regression"
      ],
      "metadata": {
        "id": "Fze-IPXLpx6K"
      }
    },
    {
      "cell_type": "code",
      "source": [
        "bagging = BaggingRegressor(random_state=0)\n",
        "bagging.fit(X_train, y_train)"
      ],
      "metadata": {
        "id": "FFrSXAtrpx6M"
      },
      "execution_count": null,
      "outputs": []
    },
    {
      "cell_type": "code",
      "source": [
        "print(\"Training set score: {:.2f}\".format(bagging.score(X_train, y_train)))\n",
        "print(\"Test set score: {:.2f}\".format(bagging.score(X_test, y_test)))"
      ],
      "metadata": {
        "id": "FBvzKHKW0fqF"
      },
      "execution_count": null,
      "outputs": []
    },
    {
      "cell_type": "code",
      "source": [
        "y_pred_bag = bagging.predict(X_test)"
      ],
      "metadata": {
        "id": "HQDxOcn50fhc"
      },
      "execution_count": null,
      "outputs": []
    },
    {
      "cell_type": "markdown",
      "source": [
        "#### 1. Explain the ML Model used and it's performance using Evaluation metric Score Chart."
      ],
      "metadata": {
        "id": "7AN1z2sKpx6M"
      }
    },
    {
      "cell_type": "code",
      "source": [
        "MSE  = mean_squared_error((y_test),(y_pred_bag))\n",
        "print(\"MSE :\" , MSE)\n",
        "\n",
        "MAE = mean_absolute_error(y_test, y_pred_bag)\n",
        "print(\"MAE :\", MAE)\n",
        "\n",
        "RMSE = np.sqrt(MSE)\n",
        "print(\"RMSE :\" ,RMSE)\n",
        "\n",
        "r2 = r2_score((y_test), (y_pred_bag))\n",
        "print(\"R2 :\" ,r2)\n",
        "\n",
        "n= X_test.shape[0]\n",
        "k= X_test.shape[1]\n",
        "adj_r2_score = 1 - ((1-r2)*(n-1)/(n-k-1))\n",
        "print(\"Adjusted R2 :\", adj_r2_score)"
      ],
      "metadata": {
        "id": "xIY4lxxGpx6M"
      },
      "execution_count": null,
      "outputs": []
    },
    {
      "cell_type": "markdown",
      "source": [
        "### ML Model - 4 : Random-Forest Regression"
      ],
      "metadata": {
        "id": "PU1wZzzV1GI8"
      }
    },
    {
      "cell_type": "code",
      "source": [
        "rfr = RandomForestRegressor(random_state=0)"
      ],
      "metadata": {
        "id": "BPvn-Dbd1GI9"
      },
      "execution_count": null,
      "outputs": []
    },
    {
      "cell_type": "code",
      "source": [
        "rfr.fit(X_train, y_train)"
      ],
      "metadata": {
        "id": "KetQgl8R1GI9"
      },
      "execution_count": null,
      "outputs": []
    },
    {
      "cell_type": "code",
      "source": [
        "print(\"Training set score: {:.2f}\".format(rfr.score(X_train, y_train)))\n",
        "print(\"Test set score: {:.2f}\".format(rfr.score(X_test, y_test)))"
      ],
      "metadata": {
        "id": "BBcJtF2Y1GI9"
      },
      "execution_count": null,
      "outputs": []
    },
    {
      "cell_type": "code",
      "source": [
        "y_pred_rfr = rfr.predict(X_test)"
      ],
      "metadata": {
        "id": "Chj5iUUi2DkB"
      },
      "execution_count": null,
      "outputs": []
    },
    {
      "cell_type": "markdown",
      "source": [
        "#### 1. Explain the ML Model used and it's performance using Evaluation metric Score Chart."
      ],
      "metadata": {
        "id": "Ac3CJfR81GI9"
      }
    },
    {
      "cell_type": "code",
      "source": [
        "MSE  = mean_squared_error((y_test),(y_pred_rfr))\n",
        "print(\"MSE :\" , MSE)\n",
        "\n",
        "MAE = mean_absolute_error(y_test, y_pred_rfr)\n",
        "print(\"MAE :\", MAE)\n",
        "\n",
        "RMSE = np.sqrt(MSE)\n",
        "print(\"RMSE :\" ,RMSE)\n",
        "\n",
        "r2 = r2_score((y_test), (y_pred_rfr))\n",
        "print(\"R2 :\" ,r2)\n",
        "\n",
        "n= X_test.shape[0]\n",
        "k= X_test.shape[1]\n",
        "adj_r2_score = 1 - ((1-r2)*(n-1)/(n-k-1))\n",
        "print(\"Adjusted R2 :\", adj_r2_score)"
      ],
      "metadata": {
        "id": "ViQjduF11GI9"
      },
      "execution_count": null,
      "outputs": []
    },
    {
      "cell_type": "code",
      "source": [
        "plt.figure(figsize=(15,7))\n",
        "plt.plot(np.square(y_pred_rfr[:100]))\n",
        "plt.plot(np.square(np.array(y_test[:100])))\n",
        "plt.legend([\"Predicted\",\"Actual\"])\n",
        "plt.show()"
      ],
      "metadata": {
        "id": "Z-T5powV2Hsh"
      },
      "execution_count": null,
      "outputs": []
    },
    {
      "cell_type": "markdown",
      "source": [
        "### ML Model - 5 : Gradient Boosting Regression"
      ],
      "metadata": {
        "id": "dcJafXdA1IWs"
      }
    },
    {
      "cell_type": "code",
      "source": [
        "GradientBoosting = GradientBoostingRegressor(random_state=0)"
      ],
      "metadata": {
        "id": "OTKJZGMt1IWt"
      },
      "execution_count": null,
      "outputs": []
    },
    {
      "cell_type": "code",
      "source": [
        "GradientBoosting.fit(X_train, y_train)"
      ],
      "metadata": {
        "id": "h4vL2d5S1IWv"
      },
      "execution_count": null,
      "outputs": []
    },
    {
      "cell_type": "code",
      "source": [
        "print(\"Training set score: {:.2f}\".format(GradientBoosting.score(X_train, y_train)))\n",
        "print(\"Test set score: {:.2f}\".format(GradientBoosting.score(X_test, y_test)))"
      ],
      "metadata": {
        "id": "vftzBwHD1IWw"
      },
      "execution_count": null,
      "outputs": []
    },
    {
      "cell_type": "code",
      "source": [
        "y_pred_gb = GradientBoosting.predict(X_test)"
      ],
      "metadata": {
        "id": "t-VlfuhK2XUe"
      },
      "execution_count": null,
      "outputs": []
    },
    {
      "cell_type": "markdown",
      "source": [
        "#### 1. Explain the ML Model used and it's performance using Evaluation metric Score Chart."
      ],
      "metadata": {
        "id": "-8M72KpD1IWx"
      }
    },
    {
      "cell_type": "code",
      "source": [
        "MSE  = mean_squared_error((y_test), (y_pred_gb))\n",
        "print(\"MSE :\" , MSE)\n",
        "\n",
        "MAE =mean_absolute_error(y_test, y_pred_gb)\n",
        "print(\"MAE :\", MAE)\n",
        "\n",
        "RMSE = np.sqrt(MSE)\n",
        "print(\"RMSE :\" ,RMSE)\n",
        "\n",
        "r2 = r2_score((y_test), (y_pred_gb))\n",
        "print(\"R2 :\" ,r2)\n",
        "\n",
        "n= X_test.shape[0]\n",
        "k= X_test.shape[1]\n",
        "adj_r2_score = 1 - ((1-r2)*(n-1)/(n-k-1))\n",
        "print(\"Adjusted R2 :\", adj_r2_score)"
      ],
      "metadata": {
        "id": "Q0YIqGYY1IWy"
      },
      "execution_count": null,
      "outputs": []
    },
    {
      "cell_type": "code",
      "source": [
        "plt.figure(figsize=(15,7))\n",
        "plt.plot(np.square(y_pred_gb[:100]))\n",
        "plt.plot(np.square(np.array(y_test[:100])))\n",
        "plt.legend([\"Predicted\",\"Actual\"])\n",
        "plt.show()"
      ],
      "metadata": {
        "id": "dkr24bs-2a2y"
      },
      "execution_count": null,
      "outputs": []
    },
    {
      "cell_type": "markdown",
      "source": [
        "### ML Model - 6 : XG-Boost Regression"
      ],
      "metadata": {
        "id": "xwuGpnmB1qnc"
      }
    },
    {
      "cell_type": "code",
      "source": [
        "xg_boost = XGBRegressor(random_state=0)"
      ],
      "metadata": {
        "id": "efBBVIu11qnc"
      },
      "execution_count": null,
      "outputs": []
    },
    {
      "cell_type": "code",
      "source": [
        "xg_boost.fit(X_train,y_train)"
      ],
      "metadata": {
        "id": "KCCXxApY1qnd"
      },
      "execution_count": null,
      "outputs": []
    },
    {
      "cell_type": "code",
      "source": [
        "print(\"Training set score: {:.2f}\".format(xg_boost.score(X_train, y_train)))\n",
        "print(\"Test set score: {:.2f}\".format(xg_boost.score(X_test, y_test)))"
      ],
      "metadata": {
        "id": "N21Ds4YT1qnd"
      },
      "execution_count": null,
      "outputs": []
    },
    {
      "cell_type": "code",
      "source": [
        "y_pred_xgb = xg_boost.predict(X_test)"
      ],
      "metadata": {
        "id": "_atj9hWd2wpC"
      },
      "execution_count": null,
      "outputs": []
    },
    {
      "cell_type": "markdown",
      "source": [
        "#### 1. Explain the ML Model used and it's performance using Evaluation metric Score Chart."
      ],
      "metadata": {
        "id": "aXacsmQq1qnd"
      }
    },
    {
      "cell_type": "code",
      "source": [
        "MSE  = mean_squared_error((y_test),(y_pred_xgb))\n",
        "print(\"MSE :\" , MSE)\n",
        "\n",
        "MAE = mean_absolute_error(y_test, y_pred_xgb)\n",
        "print(\"MAE\", MAE)\n",
        "\n",
        "RMSE = np.sqrt(MSE)\n",
        "print(\"RMSE :\" ,RMSE)\n",
        "\n",
        "r2 = r2_score((y_test), (y_pred_xgb))\n",
        "print(\"R2 :\" ,r2)\n",
        "\n",
        "n= X_test.shape[0]\n",
        "k= X_test.shape[1]\n",
        "adj_r2_score = 1 - ((1-r2)*(n-1)/(n-k-1))\n",
        "print(\"Adjusted R2 :\", adj_r2_score)"
      ],
      "metadata": {
        "id": "wZ3CcDMW1qne"
      },
      "execution_count": null,
      "outputs": []
    },
    {
      "cell_type": "code",
      "source": [
        "plt.figure(figsize=(15,7))\n",
        "plt.plot(np.square(y_pred_xgb[:100]))\n",
        "plt.plot(np.square(np.array(y_test[:100])))\n",
        "plt.legend([\"Predicted\",\"Actual\"])\n",
        "plt.show()"
      ],
      "metadata": {
        "id": "ley-zE8N24Lq"
      },
      "execution_count": null,
      "outputs": []
    },
    {
      "cell_type": "markdown",
      "source": [
        "### ML Model - 7 : KNN Regression"
      ],
      "metadata": {
        "id": "96s-Q7Lr1t15"
      }
    },
    {
      "cell_type": "code",
      "source": [
        "neighbors = np.arange(1,10)\n",
        "train_accuracy =np.empty(len(neighbors))\n",
        "test_accuracy = np.empty(len(neighbors))\n",
        "\n",
        "for i,k in enumerate(neighbors):\n",
        "    # Setup a knn classifier with k neighbors\n",
        "    knn = KNeighborsRegressor(n_neighbors=k)\n",
        "    \n",
        "    # Fit the model\n",
        "    knn.fit(X_train, y_train)\n",
        "    \n",
        "    # Compute accuracy on the training set\n",
        "    train_accuracy[i] = knn.score(X_train, y_train)\n",
        "    \n",
        "    # Compute accuracy on the test set\n",
        "    test_accuracy[i] = knn.score(X_test, y_test) "
      ],
      "metadata": {
        "id": "AE4R4Cme1t16"
      },
      "execution_count": null,
      "outputs": []
    },
    {
      "cell_type": "code",
      "source": [
        "plt.title('k-NN Varying number of neighbors')\n",
        "plt.plot(neighbors, test_accuracy, label='Testing Accuracy')\n",
        "plt.plot(neighbors, train_accuracy, label='Training Accuracy')\n",
        "plt.legend()\n",
        "plt.xlabel('Number of neighbors')\n",
        "plt.ylabel('Accuracy')\n",
        "plt.show()"
      ],
      "metadata": {
        "id": "juGIb2il1t17"
      },
      "execution_count": null,
      "outputs": []
    },
    {
      "cell_type": "code",
      "source": [
        "knn_reg = KNeighborsRegressor(n_neighbors = 6)            # minkowski --> generalization of Eucledian & manhattan,  p= no of input variables\n",
        "knn_reg.fit(X_train, y_train)"
      ],
      "metadata": {
        "id": "f3i5Lz911t17"
      },
      "execution_count": null,
      "outputs": []
    },
    {
      "cell_type": "code",
      "source": [
        "print(\"Training set score: {:.2f}\".format(knn_reg.score(X_train, y_train)))\n",
        "print(\"Test set score: {:.2f}\".format(knn_reg.score(X_test, y_test)))"
      ],
      "metadata": {
        "id": "6WcDWvN03FeL"
      },
      "execution_count": null,
      "outputs": []
    },
    {
      "cell_type": "code",
      "source": [
        "y_pred_knn = knn_reg.predict(X_test)"
      ],
      "metadata": {
        "id": "ozfPVnGY3FSU"
      },
      "execution_count": null,
      "outputs": []
    },
    {
      "cell_type": "markdown",
      "source": [
        "#### 1. Explain the ML Model used and it's performance using Evaluation metric Score Chart."
      ],
      "metadata": {
        "id": "FgYl5dmF1t18"
      }
    },
    {
      "cell_type": "markdown",
      "source": [
        "KNN algorithm is implemented .High MSE, MAE & RMSE for knn can be due to the fact that KNN works best with lower dimensional data (less input variables)"
      ],
      "metadata": {
        "id": "KX_5wUlr3I5D"
      }
    },
    {
      "cell_type": "code",
      "source": [
        "MSE  = mean_squared_error(y_test,y_pred_knn)\n",
        "print(\"MSE :\" , MSE)\n",
        "\n",
        "MAE = mean_absolute_error(y_test, y_pred_xgb)\n",
        "print(\"MAE\", MAE)\n",
        "\n",
        "RMSE = np.sqrt(MSE)\n",
        "print(\"RMSE :\" ,RMSE)\n",
        "\n",
        "r2 = r2_score((y_test),(y_pred_knn))\n",
        "print(\"R2 :\" ,r2)\n",
        "\n",
        "n= X_test.shape[0]\n",
        "k= X_test.shape[1]\n",
        "adj_r2_score = 1 - ((1-r2)*(n-1)/(n-k-1))\n",
        "print(\"Adjusted R2 :\", adj_r2_score)"
      ],
      "metadata": {
        "id": "gyFbfxrX1t19"
      },
      "execution_count": null,
      "outputs": []
    },
    {
      "cell_type": "code",
      "source": [
        "plt.figure(figsize=(15,7))\n",
        "plt.plot(np.square(y_pred_knn[:100]))\n",
        "plt.plot(np.square(np.array(y_test[:100])))\n",
        "plt.legend([\"Predicted\",\"Actual\"])\n",
        "plt.show()"
      ],
      "metadata": {
        "id": "bwOkiXSd3QgR"
      },
      "execution_count": null,
      "outputs": []
    },
    {
      "cell_type": "markdown",
      "source": [
        "### 1. Which Evaluation metrics did you consider for a positive business impact and why?"
      ],
      "metadata": {
        "id": "h_CCil-SKHpo"
      }
    },
    {
      "cell_type": "markdown",
      "source": [
        "Regression Evaluation metrics\n",
        "We will assess our model performances on the basis of following metrics :\n",
        "\n",
        "1. Mean Absolute Error (MAE)\n",
        "2. Mean Squared Error (MSE)\n",
        "3. Root Mean Squared Error (RMSE)\n",
        "4. R2 score\n",
        "5. Adjusted R2 score"
      ],
      "metadata": {
        "id": "jHVz9hHDKFms"
      }
    },
    {
      "cell_type": "markdown",
      "source": [
        "### 2. Which ML model did you choose from the above created models as your final prediction model and why?"
      ],
      "metadata": {
        "id": "cBFFvTBNJzUa"
      }
    },
    {
      "cell_type": "code",
      "source": [
        "models = [\n",
        "           ['Lasso ', Lasso(alpha=0.1)],\n",
        "           ['Ridge ', Ridge(alpha=0.05)],\n",
        "           ['Elastic-Net ', ElasticNet(alpha=0.1, l1_ratio=0.5)],\n",
        "           ['Bagging', BaggingRegressor(random_state=0)],\n",
        "           ['RandomForest ',RandomForestRegressor(random_state=0)],\n",
        "           ['Gradient-Boostiing ',GradientBoostingRegressor(random_state=0)], \n",
        "           ['XGB-Regressor', XGBRegressor(random_state=0)] ,\n",
        "           ['KNN-Regressor', KNeighborsRegressor(n_neighbors = 6)]    \n",
        "        ]"
      ],
      "metadata": {
        "id": "Om6luNad3cwC"
      },
      "execution_count": null,
      "outputs": []
    },
    {
      "cell_type": "code",
      "source": [
        "model_data = []\n",
        "for name,curr_model in models :\n",
        "    curr_model_data = {}\n",
        "    curr_model.random_state = 0\n",
        "    curr_model_data[\"Name\"] = name\n",
        "    curr_model.fit(X_train,y_train)\n",
        "    curr_model_data[\"MAE_train\"] =metrics.mean_absolute_error(y_train, curr_model.predict(X_train))\n",
        "    curr_model_data[\"MAE_test\"] =metrics.mean_absolute_error(y_test, curr_model.predict(X_test))\n",
        "    curr_model_data[\"R2_Score_train\"] = r2_score(y_train,curr_model.predict(X_train))\n",
        "    curr_model_data[\"R2_Score_test\"] = r2_score(y_test,curr_model.predict(X_test))\n",
        "    curr_model_data[\"RMSE_Score_train\"] = np.sqrt(mean_squared_error(y_train,curr_model.predict(X_train)))\n",
        "    curr_model_data[\"RMSE_Score_test\"] = np.sqrt(mean_squared_error(y_test,curr_model.predict(X_test)))\n",
        "\n",
        "    model_data.append(curr_model_data)"
      ],
      "metadata": {
        "id": "mX9alNIl3fqZ"
      },
      "execution_count": null,
      "outputs": []
    },
    {
      "cell_type": "code",
      "source": [
        "results_df = pd.DataFrame(model_data)\n",
        "results_df"
      ],
      "metadata": {
        "id": "YqxdqkXF3jIa"
      },
      "execution_count": null,
      "outputs": []
    },
    {
      "cell_type": "code",
      "source": [
        "plt.figure(figsize=(12, 8))\n",
        "ax=sns.barplot(x='Name', y='R2_Score_test',data=results_df)\n",
        "plt.setp(ax.get_xticklabels(), rotation=20);\n",
        "plt.title('R2 score of models')\n",
        "plt.xlabel('Models')\n",
        "plt.ylabel('R2 Score')\n",
        "ax.grid(False)"
      ],
      "metadata": {
        "id": "GECpZLQT3i9U"
      },
      "execution_count": null,
      "outputs": []
    },
    {
      "cell_type": "code",
      "source": [
        "plt.figure(figsize=(12, 8))\n",
        "ax=sns.barplot(x='Name', y='MAE_test',data=results_df)\n",
        "plt.setp(ax.get_xticklabels(), rotation=20);\n",
        "plt.title('Mean Absolute Error for models')\n",
        "plt.xlabel('Models')\n",
        "plt.ylabel('Mean Absolute Error')\n",
        "ax.grid(False)"
      ],
      "metadata": {
        "id": "unlyT4B63ixU"
      },
      "execution_count": null,
      "outputs": []
    },
    {
      "cell_type": "markdown",
      "source": [
        "Considering the R2 Score and MAE scaore , XG-Boost has the best performance wrt model prediction"
      ],
      "metadata": {
        "id": "herOkg-D3tW1"
      }
    },
    {
      "cell_type": "markdown",
      "source": [
        "### 3. Explain the model which you have used and the feature importance using any model explainability tool?"
      ],
      "metadata": {
        "id": "HvGl1hHyA_VK"
      }
    },
    {
      "cell_type": "markdown",
      "source": [
        "**SHAPLEY Method**"
      ],
      "metadata": {
        "id": "YnvVTiIxBL-C"
      }
    },
    {
      "cell_type": "code",
      "source": [
        "pip install shap"
      ],
      "metadata": {
        "id": "tehwjs0Z37C9"
      },
      "execution_count": null,
      "outputs": []
    },
    {
      "cell_type": "code",
      "source": [
        "import shap "
      ],
      "metadata": {
        "id": "jwmxc-Tj3-5_"
      },
      "execution_count": null,
      "outputs": []
    },
    {
      "cell_type": "code",
      "source": [
        "# Create the object that can calculate shap values\n",
        "explainer = shap.Explainer(rfr)\n",
        "# Calculate shap values\n",
        "shap_values = explainer(X_train)\n",
        "     "
      ],
      "metadata": {
        "id": "-Yugxz8O3-uN"
      },
      "execution_count": null,
      "outputs": []
    },
    {
      "cell_type": "code",
      "source": [
        "shap.initjs()\n",
        "shap.force_plot(explainer.expected_value, shap_values.values[0,:],X.iloc[0,:])"
      ],
      "metadata": {
        "id": "t5yjwl-e3-ln"
      },
      "execution_count": null,
      "outputs": []
    },
    {
      "cell_type": "code",
      "source": [
        "# Obtain a Bar Summary Plot\n",
        "shap.summary_plot(shap_values, X_train, plot_type=\"bar\")"
      ],
      "metadata": {
        "id": "k0GupRF63-XC"
      },
      "execution_count": null,
      "outputs": []
    },
    {
      "cell_type": "code",
      "source": [
        "# Beeswarm plot\n",
        "shap.plots.beeswarm(shap_values)"
      ],
      "metadata": {
        "id": "y47Zxemk3-LT"
      },
      "execution_count": null,
      "outputs": []
    },
    {
      "cell_type": "markdown",
      "source": [
        "1. The above plots shows top features & their contribution to push the model output from the base value (the average model output over the training dataset we passed) to the model output. Features pushing the prediction higher are shown in red and those pushing the prediction lower are in blue.\n",
        "2. So, Daily_views & Speaker_avg_values pushes the prediction lower, while time_since_published and year pushes the prediction higher.\n",
        "3. The base value (mean value) of our output is around 1 million views"
      ],
      "metadata": {
        "id": "_2Pb7azq3_iN"
      }
    },
    {
      "cell_type": "markdown",
      "source": [
        "# **Conclusion**"
      ],
      "metadata": {
        "id": "gCX9965dhzqZ"
      }
    },
    {
      "cell_type": "markdown",
      "source": [
        "**Summary**"
      ],
      "metadata": {
        "id": "Fjb1IsQkh3yE"
      }
    },
    {
      "cell_type": "markdown",
      "source": [
        "1. We trained 8 Machine Learning models on training dataset by considering the best parameters for each model.\n",
        "2. The performance of each model was evaluated using comparison graph between Predicted and Actual values and some Regression evaluation metrics.\n",
        "3. We started with Linear regression, and further implemented regularizations to the same.\n",
        "4. To further evaluate our dataset on more complex and restricted parameters , we used Decision Trees and its ensemble techniques.\n",
        "5. Considering the overall optimal values from errors and R2 score, Random-Forest has least errors and optimal R2 score for training and test dataset.\n"
      ],
      "metadata": {
        "id": "xBYDocZw4jTp"
      }
    },
    {
      "cell_type": "markdown",
      "source": [
        "**Conclusion :**"
      ],
      "metadata": {
        "id": "e__E8OJE4l3w"
      }
    },
    {
      "cell_type": "markdown",
      "source": [
        "1. Focus should be given on specific topics, number of topics and available languages count.\n",
        "2. Overall theme of majority of the events focus on Education & Self-development\n",
        "3. Events should be made available in as many languages as possible\n",
        "4. Those speakers should be selected, who have made a significant contribution in their respective field and possess significant knowledge\n",
        "5. Events should be published online mostly on Friday and in the month of March\n",
        "6. Avg views prediction for new TED event wrt given dataset will be around 2.17 million"
      ],
      "metadata": {
        "id": "fCX9rw3O4lr2"
      }
    },
    {
      "cell_type": "markdown",
      "source": [
        "### ***Hurrah! You have successfully completed your Machine Learning Capstone Project !!!***"
      ],
      "metadata": {
        "id": "gIfDvo9L0UH2"
      }
    }
  ]
}